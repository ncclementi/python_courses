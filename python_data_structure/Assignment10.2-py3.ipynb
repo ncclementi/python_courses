{
 "cells": [
  {
   "cell_type": "code",
   "execution_count": 8,
   "metadata": {
    "collapsed": false
   },
   "outputs": [
    {
     "name": "stdout",
     "output_type": "stream",
     "text": [
      "Enter file name: mbox-short.txt\n",
      "04 3\n",
      "06 1\n",
      "07 1\n",
      "09 2\n",
      "10 3\n",
      "11 6\n",
      "14 1\n",
      "15 2\n",
      "16 4\n",
      "17 2\n",
      "18 1\n",
      "19 1\n"
     ]
    }
   ],
   "source": [
    "fname = input(\"Enter file name: \")\n",
    "fh = open(fname)\n",
    "\n",
    "count = {}\n",
    "for line in fh:\n",
    "    line.rstrip()\n",
    "    \n",
    "    if not line.startswith(\"From \") : continue        \n",
    "     \n",
    "    line = line.split()\n",
    "    time = line[5]\n",
    "    #print(time)\n",
    "    hour = time.split(':')[0]    \n",
    "    #print(hour)\n",
    "    count[hour] = count.get(hour,0) + 1\n",
    "\n",
    "lst = sorted(count.items()) \n",
    "\n",
    "for h, c in lst:\n",
    "    print (h, c)"
   ]
  },
  {
   "cell_type": "code",
   "execution_count": null,
   "metadata": {
    "collapsed": true
   },
   "outputs": [],
   "source": [
    "lst = count.items()\n",
    "lst = lst.sort()\n",
    "\n",
    "for h, c in lst:\n",
    "    print (h, c)"
   ]
  }
 ],
 "metadata": {
  "kernelspec": {
   "display_name": "Python 3",
   "language": "python",
   "name": "python3"
  },
  "language_info": {
   "codemirror_mode": {
    "name": "ipython",
    "version": 3
   },
   "file_extension": ".py",
   "mimetype": "text/x-python",
   "name": "python",
   "nbconvert_exporter": "python",
   "pygments_lexer": "ipython3",
   "version": "3.4.4"
  }
 },
 "nbformat": 4,
 "nbformat_minor": 0
}
