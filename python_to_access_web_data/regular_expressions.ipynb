{
 "cells": [
  {
   "cell_type": "markdown",
   "metadata": {},
   "source": [
    "# Regular expressions"
   ]
  },
  {
   "cell_type": "markdown",
   "metadata": {},
   "source": [
    "They provide a consice and flexible means for matching strings of text, such as particular characters, words, or patterns of characters. \n",
    "It is a language of charachters."
   ]
  },
  {
   "cell_type": "markdown",
   "metadata": {},
   "source": [
    "## Python regular expressions quick guide\n",
    "\n",
    " "
   ]
  },
  {
   "cell_type": "raw",
   "metadata": {},
   "source": [
    "^        Matches the beginning of a line.\n",
    "$        Matches the end of the line.\n",
    ".        Matches any character.\n",
    "\\s       Matches whitespace.\n",
    "\\S       Matches any non-whitespace character.\n",
    "*        Repeats a character zero or more times.\n",
    "*?       Repeats a character zero or more times (non-greedy).\n",
    "+        Repeats a character one or more times.\n",
    "+?       Repeats a character one or more times (non-greedy).\n",
    "[aeiou]  Matches a single character in the listed set.\n",
    "[^XYZ]   Matches a single character not in the listed set.\n",
    "[a-z0-9] The set of characters can include a range.\n",
    "(        Indicates where string extraction is to start.\n",
    ")        Indicates where string extraction is to end."
   ]
  },
  {
   "cell_type": "markdown",
   "metadata": {},
   "source": [
    "Python has a regular expression module and we can do interesting things with it.\n",
    "\n",
    "* Before using them we need to import the library `import re `\n",
    "* We can use re.search() to see if a string matches a regular expression,\n",
    "  similar to using find() method for strings.\n",
    "* We can use re.findall() that extract portions of a string that match your\n",
    "  regular expression similar to a combination of find and slicing: \n",
    "  var[5:10].      "
   ]
  },
  {
   "cell_type": "markdown",
   "metadata": {},
   "source": [
    "## Examples\n",
    "\n",
    "### Using `re.search()` like `find()`\n"
   ]
  },
  {
   "cell_type": "code",
   "execution_count": 23,
   "metadata": {
    "code_folding": [],
    "collapsed": true
   },
   "outputs": [
    {
     "name": "stdout",
     "output_type": "stream",
     "text": [
      "From: stephen.marquard@uct.ac.za\n",
      "From: louis@media.berkeley.edu\n",
      "From: zqian@umich.edu\n",
      "From: rjlowe@iupui.edu\n",
      "From: zqian@umich.edu\n",
      "From: rjlowe@iupui.edu\n",
      "From: cwen@iupui.edu\n",
      "From: cwen@iupui.edu\n",
      "From: gsilver@umich.edu\n",
      "From: gsilver@umich.edu\n",
      "From: zqian@umich.edu\n",
      "From: gsilver@umich.edu\n",
      "From: wagnermr@iupui.edu\n",
      "From: zqian@umich.edu\n",
      "From: antranig@caret.cam.ac.uk\n",
      "From: gopal.ramasammycook@gmail.com\n",
      "From: david.horwitz@uct.ac.za\n",
      "From: david.horwitz@uct.ac.za\n",
      "From: david.horwitz@uct.ac.za\n",
      "From: david.horwitz@uct.ac.za\n",
      "From: stephen.marquard@uct.ac.za\n",
      "From: louis@media.berkeley.edu\n",
      "From: louis@media.berkeley.edu\n",
      "From: ray@media.berkeley.edu\n",
      "From: cwen@iupui.edu\n",
      "From: cwen@iupui.edu\n",
      "From: cwen@iupui.edu\n"
     ]
    }
   ],
   "source": [
    "#Using find() to find the lines start with 'From:'\n",
    "hand = open('data/mbox-short.txt')\n",
    "for line in hand:\n",
    "    line = line.rstrip()\n",
    "    if line.find('From:') >= 0:\n",
    "        print(line)\n",
    "        "
   ]
  },
  {
   "cell_type": "code",
   "execution_count": 24,
   "metadata": {
    "collapsed": true
   },
   "outputs": [
    {
     "name": "stdout",
     "output_type": "stream",
     "text": [
      "From: stephen.marquard@uct.ac.za\n",
      "From: louis@media.berkeley.edu\n",
      "From: zqian@umich.edu\n",
      "From: rjlowe@iupui.edu\n",
      "From: zqian@umich.edu\n",
      "From: rjlowe@iupui.edu\n",
      "From: cwen@iupui.edu\n",
      "From: cwen@iupui.edu\n",
      "From: gsilver@umich.edu\n",
      "From: gsilver@umich.edu\n",
      "From: zqian@umich.edu\n",
      "From: gsilver@umich.edu\n",
      "From: wagnermr@iupui.edu\n",
      "From: zqian@umich.edu\n",
      "From: antranig@caret.cam.ac.uk\n",
      "From: gopal.ramasammycook@gmail.com\n",
      "From: david.horwitz@uct.ac.za\n",
      "From: david.horwitz@uct.ac.za\n",
      "From: david.horwitz@uct.ac.za\n",
      "From: david.horwitz@uct.ac.za\n",
      "From: stephen.marquard@uct.ac.za\n",
      "From: louis@media.berkeley.edu\n",
      "From: louis@media.berkeley.edu\n",
      "From: ray@media.berkeley.edu\n",
      "From: cwen@iupui.edu\n",
      "From: cwen@iupui.edu\n",
      "From: cwen@iupui.edu\n"
     ]
    }
   ],
   "source": [
    "#Now let's do it using re.search() to do the same.\n",
    "import re\n",
    "\n",
    "hand = open('data/mbox-short.txt')\n",
    "for line in hand:\n",
    "    line = line.rstrip()\n",
    "    if re.search('From:', line):\n",
    "        print(line)"
   ]
  },
  {
   "cell_type": "markdown",
   "metadata": {},
   "source": [
    "### Using `re.search()` like `startwidth()`\n"
   ]
  },
  {
   "cell_type": "code",
   "execution_count": 25,
   "metadata": {
    "collapsed": true
   },
   "outputs": [
    {
     "name": "stdout",
     "output_type": "stream",
     "text": [
      "From: stephen.marquard@uct.ac.za\n",
      "From: louis@media.berkeley.edu\n",
      "From: zqian@umich.edu\n",
      "From: rjlowe@iupui.edu\n",
      "From: zqian@umich.edu\n",
      "From: rjlowe@iupui.edu\n",
      "From: cwen@iupui.edu\n",
      "From: cwen@iupui.edu\n",
      "From: gsilver@umich.edu\n",
      "From: gsilver@umich.edu\n",
      "From: zqian@umich.edu\n",
      "From: gsilver@umich.edu\n",
      "From: wagnermr@iupui.edu\n",
      "From: zqian@umich.edu\n",
      "From: antranig@caret.cam.ac.uk\n",
      "From: gopal.ramasammycook@gmail.com\n",
      "From: david.horwitz@uct.ac.za\n",
      "From: david.horwitz@uct.ac.za\n",
      "From: david.horwitz@uct.ac.za\n",
      "From: david.horwitz@uct.ac.za\n",
      "From: stephen.marquard@uct.ac.za\n",
      "From: louis@media.berkeley.edu\n",
      "From: louis@media.berkeley.edu\n",
      "From: ray@media.berkeley.edu\n",
      "From: cwen@iupui.edu\n",
      "From: cwen@iupui.edu\n",
      "From: cwen@iupui.edu\n"
     ]
    }
   ],
   "source": [
    "#Using startwith() to find the lines start with 'From:'\n",
    "hand = open('data/mbox-short.txt')\n",
    "for line in hand:\n",
    "    line = line.rstrip()\n",
    "    if line.startswith('From:'):\n",
    "        print(line)\n",
    "        "
   ]
  },
  {
   "cell_type": "code",
   "execution_count": 26,
   "metadata": {
    "collapsed": true
   },
   "outputs": [
    {
     "name": "stdout",
     "output_type": "stream",
     "text": [
      "From: stephen.marquard@uct.ac.za\n",
      "From: louis@media.berkeley.edu\n",
      "From: zqian@umich.edu\n",
      "From: rjlowe@iupui.edu\n",
      "From: zqian@umich.edu\n",
      "From: rjlowe@iupui.edu\n",
      "From: cwen@iupui.edu\n",
      "From: cwen@iupui.edu\n",
      "From: gsilver@umich.edu\n",
      "From: gsilver@umich.edu\n",
      "From: zqian@umich.edu\n",
      "From: gsilver@umich.edu\n",
      "From: wagnermr@iupui.edu\n",
      "From: zqian@umich.edu\n",
      "From: antranig@caret.cam.ac.uk\n",
      "From: gopal.ramasammycook@gmail.com\n",
      "From: david.horwitz@uct.ac.za\n",
      "From: david.horwitz@uct.ac.za\n",
      "From: david.horwitz@uct.ac.za\n",
      "From: david.horwitz@uct.ac.za\n",
      "From: stephen.marquard@uct.ac.za\n",
      "From: louis@media.berkeley.edu\n",
      "From: louis@media.berkeley.edu\n",
      "From: ray@media.berkeley.edu\n",
      "From: cwen@iupui.edu\n",
      "From: cwen@iupui.edu\n",
      "From: cwen@iupui.edu\n"
     ]
    }
   ],
   "source": [
    "#Using re.search() and the `^` regular expression to find\n",
    "#the lines start with 'From:'. \n",
    "#Check the quick guide to know what `^` implies. \n",
    "import re\n",
    "\n",
    "hand = open('data/mbox-short.txt')\n",
    "for line in hand:\n",
    "    line = line.rstrip()\n",
    "    if re.search('^From:', line):\n",
    "        print(line)"
   ]
  },
  {
   "cell_type": "markdown",
   "metadata": {},
   "source": [
    "### Wild-card characters\n",
    "\n",
    "* The dot character matches any character.\n",
    "* If you add the asterik character, the character is \"any number of times\"\n",
    "\n",
    "Let's see what happen if we search for `^X.*:`. Here `X` and `:` are common characters, the regular expressions are `^` and, `.*` together."
   ]
  },
  {
   "cell_type": "markdown",
   "metadata": {},
   "source": [
    "<span style=\"color:blue\"> ^ </span> X <span style=\"color:red\"> . </span> <span style=\"color:green\"> * </span> :\n",
    "\n",
    "<span style=\"color:blue\"> ^ </span> <span style=\"color:blue\"> Match the start of the line </span>.\n",
    "\n",
    "<span style=\"color:red\"> . </span> <span style=\"color:red\"> Match any character </span>.\n",
    "\n",
    "<span style=\"color:green\"> * </span> <span style=\"color:green\"> Many times </span>.\n",
    "\n"
   ]
  },
  {
   "cell_type": "code",
   "execution_count": 27,
   "metadata": {
    "collapsed": true
   },
   "outputs": [
    {
     "name": "stdout",
     "output_type": "stream",
     "text": [
      "X-Sieve: CMU Sieve 2.3\n",
      "X-Authentication-Warning: nakamura.uits.iupui.edu: apache set sender to stephen.marquard@uct.ac.za using -f\n",
      "X-Content-Type-Outer-Envelope: text/plain; charset=UTF-8\n",
      "X-Content-Type-Message-Body: text/plain; charset=UTF-8\n",
      "X-DSPAM-Result: Innocent\n",
      "X-DSPAM-Processed: Sat Jan  5 09:14:16 2008\n",
      "X-DSPAM-Confidence: 0.8475\n",
      "X-DSPAM-Probability: 0.0000\n",
      "X-Sieve: CMU Sieve 2.3\n",
      "X-Authentication-Warning: nakamura.uits.iupui.edu: apache set sender to louis@media.berkeley.edu using -f\n",
      "X-Content-Type-Outer-Envelope: text/plain; charset=UTF-8\n",
      "X-Content-Type-Message-Body: text/plain; charset=UTF-8\n",
      "X-DSPAM-Result: Innocent\n",
      "X-DSPAM-Processed: Fri Jan  4 18:10:48 2008\n",
      "X-DSPAM-Confidence: 0.6178\n",
      "X-DSPAM-Probability: 0.0000\n",
      "X-Sieve: CMU Sieve 2.3\n",
      "X-Authentication-Warning: nakamura.uits.iupui.edu: apache set sender to zqian@umich.edu using -f\n",
      "X-Content-Type-Outer-Envelope: text/plain; charset=UTF-8\n",
      "X-Content-Type-Message-Body: text/plain; charset=UTF-8\n",
      "X-DSPAM-Result: Innocent\n",
      "X-DSPAM-Processed: Fri Jan  4 16:10:39 2008\n",
      "X-DSPAM-Confidence: 0.6961\n",
      "X-DSPAM-Probability: 0.0000\n",
      "X-Sieve: CMU Sieve 2.3\n",
      "X-Authentication-Warning: nakamura.uits.iupui.edu: apache set sender to rjlowe@iupui.edu using -f\n",
      "X-Content-Type-Outer-Envelope: text/plain; charset=UTF-8\n",
      "X-Content-Type-Message-Body: text/plain; charset=UTF-8\n",
      "X-DSPAM-Result: Innocent\n",
      "X-DSPAM-Processed: Fri Jan  4 15:46:24 2008\n",
      "X-DSPAM-Confidence: 0.7565\n",
      "X-DSPAM-Probability: 0.0000\n",
      "X-Sieve: CMU Sieve 2.3\n",
      "X-Authentication-Warning: nakamura.uits.iupui.edu: apache set sender to zqian@umich.edu using -f\n",
      "X-Content-Type-Outer-Envelope: text/plain; charset=UTF-8\n",
      "X-Content-Type-Message-Body: text/plain; charset=UTF-8\n",
      "X-DSPAM-Result: Innocent\n",
      "X-DSPAM-Processed: Fri Jan  4 15:03:18 2008\n",
      "X-DSPAM-Confidence: 0.7626\n",
      "X-DSPAM-Probability: 0.0000\n",
      "X-Sieve: CMU Sieve 2.3\n",
      "X-Authentication-Warning: nakamura.uits.iupui.edu: apache set sender to rjlowe@iupui.edu using -f\n",
      "X-Content-Type-Outer-Envelope: text/plain; charset=UTF-8\n",
      "X-Content-Type-Message-Body: text/plain; charset=UTF-8\n",
      "X-DSPAM-Result: Innocent\n",
      "X-DSPAM-Processed: Fri Jan  4 14:50:18 2008\n",
      "X-DSPAM-Confidence: 0.7556\n",
      "X-DSPAM-Probability: 0.0000\n",
      "X-Sieve: CMU Sieve 2.3\n",
      "X-Authentication-Warning: nakamura.uits.iupui.edu: apache set sender to cwen@iupui.edu using -f\n",
      "X-Content-Type-Outer-Envelope: text/plain; charset=UTF-8\n",
      "X-Content-Type-Message-Body: text/plain; charset=UTF-8\n",
      "X-DSPAM-Result: Innocent\n",
      "X-DSPAM-Processed: Fri Jan  4 11:37:30 2008\n",
      "X-DSPAM-Confidence: 0.7002\n",
      "X-DSPAM-Probability: 0.0000\n",
      "X-Sieve: CMU Sieve 2.3\n",
      "X-Authentication-Warning: nakamura.uits.iupui.edu: apache set sender to cwen@iupui.edu using -f\n",
      "X-Content-Type-Outer-Envelope: text/plain; charset=UTF-8\n",
      "X-Content-Type-Message-Body: text/plain; charset=UTF-8\n",
      "X-DSPAM-Result: Innocent\n",
      "X-DSPAM-Processed: Fri Jan  4 11:35:08 2008\n",
      "X-DSPAM-Confidence: 0.7615\n",
      "X-DSPAM-Probability: 0.0000\n",
      "X-Sieve: CMU Sieve 2.3\n",
      "X-Authentication-Warning: nakamura.uits.iupui.edu: apache set sender to gsilver@umich.edu using -f\n",
      "X-Content-Type-Outer-Envelope: text/plain; charset=UTF-8\n",
      "X-Content-Type-Message-Body: text/plain; charset=UTF-8\n",
      "X-DSPAM-Result: Innocent\n",
      "X-DSPAM-Processed: Fri Jan  4 11:12:37 2008\n",
      "X-DSPAM-Confidence: 0.7601\n",
      "X-DSPAM-Probability: 0.0000\n",
      "X-Sieve: CMU Sieve 2.3\n",
      "X-Authentication-Warning: nakamura.uits.iupui.edu: apache set sender to gsilver@umich.edu using -f\n",
      "X-Content-Type-Outer-Envelope: text/plain; charset=UTF-8\n",
      "X-Content-Type-Message-Body: text/plain; charset=UTF-8\n",
      "X-DSPAM-Result: Innocent\n",
      "X-DSPAM-Processed: Fri Jan  4 11:11:52 2008\n",
      "X-DSPAM-Confidence: 0.7605\n",
      "X-DSPAM-Probability: 0.0000\n",
      "X-Sieve: CMU Sieve 2.3\n",
      "X-Authentication-Warning: nakamura.uits.iupui.edu: apache set sender to zqian@umich.edu using -f\n",
      "X-Content-Type-Outer-Envelope: text/plain; charset=UTF-8\n",
      "X-Content-Type-Message-Body: text/plain; charset=UTF-8\n",
      "X-DSPAM-Result: Innocent\n",
      "X-DSPAM-Processed: Fri Jan  4 11:11:03 2008\n",
      "X-DSPAM-Confidence: 0.6959\n",
      "X-DSPAM-Probability: 0.0000\n",
      "X-Sieve: CMU Sieve 2.3\n",
      "X-Authentication-Warning: nakamura.uits.iupui.edu: apache set sender to gsilver@umich.edu using -f\n",
      "X-Content-Type-Outer-Envelope: text/plain; charset=UTF-8\n",
      "X-Content-Type-Message-Body: text/plain; charset=UTF-8\n",
      "X-DSPAM-Result: Innocent\n",
      "X-DSPAM-Processed: Fri Jan  4 11:10:22 2008\n",
      "X-DSPAM-Confidence: 0.7606\n",
      "X-DSPAM-Probability: 0.0000\n",
      "X-Sieve: CMU Sieve 2.3\n",
      "X-Authentication-Warning: nakamura.uits.iupui.edu: apache set sender to wagnermr@iupui.edu using -f\n",
      "X-Content-Type-Outer-Envelope: text/plain; charset=UTF-8\n",
      "X-Content-Type-Message-Body: text/plain; charset=UTF-8\n",
      "X-DSPAM-Result: Innocent\n",
      "X-DSPAM-Processed: Fri Jan  4 10:38:42 2008\n",
      "X-DSPAM-Confidence: 0.7559\n",
      "X-DSPAM-Probability: 0.0000\n",
      "X-Sieve: CMU Sieve 2.3\n",
      "X-Authentication-Warning: nakamura.uits.iupui.edu: apache set sender to zqian@umich.edu using -f\n",
      "X-Content-Type-Outer-Envelope: text/plain; charset=UTF-8\n",
      "X-Content-Type-Message-Body: text/plain; charset=UTF-8\n",
      "X-DSPAM-Result: Innocent\n",
      "X-DSPAM-Processed: Fri Jan  4 10:17:42 2008\n",
      "X-DSPAM-Confidence: 0.7605\n",
      "X-DSPAM-Probability: 0.0000\n",
      "X-Sieve: CMU Sieve 2.3\n",
      "X-Authentication-Warning: nakamura.uits.iupui.edu: apache set sender to antranig@caret.cam.ac.uk using -f\n",
      "X-Content-Type-Outer-Envelope: text/plain; charset=UTF-8\n",
      "X-Content-Type-Message-Body: text/plain; charset=UTF-8\n",
      "X-DSPAM-Result: Innocent\n",
      "X-DSPAM-Processed: Fri Jan  4 10:04:14 2008\n",
      "X-DSPAM-Confidence: 0.6932\n",
      "X-DSPAM-Probability: 0.0000\n",
      "X-Sieve: CMU Sieve 2.3\n",
      "X-Authentication-Warning: nakamura.uits.iupui.edu: apache set sender to gopal.ramasammycook@gmail.com using -f\n",
      "X-Content-Type-Outer-Envelope: text/plain; charset=UTF-8\n",
      "X-Content-Type-Message-Body: text/plain; charset=UTF-8\n",
      "X-DSPAM-Result: Innocent\n",
      "X-DSPAM-Processed: Fri Jan  4 09:05:31 2008\n",
      "X-DSPAM-Confidence: 0.7558\n",
      "X-DSPAM-Probability: 0.0000\n",
      "X-Sieve: CMU Sieve 2.3\n",
      "X-Authentication-Warning: nakamura.uits.iupui.edu: apache set sender to david.horwitz@uct.ac.za using -f\n",
      "X-Content-Type-Outer-Envelope: text/plain; charset=UTF-8\n",
      "X-Content-Type-Message-Body: text/plain; charset=UTF-8\n",
      "X-DSPAM-Result: Innocent\n",
      "X-DSPAM-Processed: Fri Jan  4 07:02:32 2008\n",
      "X-DSPAM-Confidence: 0.6526\n",
      "X-DSPAM-Probability: 0.0000\n",
      "X-Sieve: CMU Sieve 2.3\n",
      "X-Authentication-Warning: nakamura.uits.iupui.edu: apache set sender to david.horwitz@uct.ac.za using -f\n",
      "X-Content-Type-Outer-Envelope: text/plain; charset=UTF-8\n",
      "X-Content-Type-Message-Body: text/plain; charset=UTF-8\n",
      "X-DSPAM-Result: Innocent\n",
      "X-DSPAM-Processed: Fri Jan  4 06:08:27 2008\n",
      "X-DSPAM-Confidence: 0.6948\n",
      "X-DSPAM-Probability: 0.0000\n",
      "X-Sieve: CMU Sieve 2.3\n",
      "X-Authentication-Warning: nakamura.uits.iupui.edu: apache set sender to david.horwitz@uct.ac.za using -f\n",
      "X-Content-Type-Outer-Envelope: text/plain; charset=UTF-8\n",
      "X-Content-Type-Message-Body: text/plain; charset=UTF-8\n",
      "X-DSPAM-Result: Innocent\n",
      "X-DSPAM-Processed: Fri Jan  4 04:49:08 2008\n",
      "X-DSPAM-Confidence: 0.6528\n",
      "X-DSPAM-Probability: 0.0000\n",
      "X-Sieve: CMU Sieve 2.3\n",
      "X-Authentication-Warning: nakamura.uits.iupui.edu: apache set sender to david.horwitz@uct.ac.za using -f\n",
      "X-Content-Type-Outer-Envelope: text/plain; charset=UTF-8\n",
      "X-Content-Type-Message-Body: text/plain; charset=UTF-8\n",
      "X-DSPAM-Result: Innocent\n",
      "X-DSPAM-Processed: Fri Jan  4 04:33:44 2008\n",
      "X-DSPAM-Confidence: 0.7002\n",
      "X-DSPAM-Probability: 0.0000\n",
      "X-Sieve: CMU Sieve 2.3\n",
      "X-Authentication-Warning: nakamura.uits.iupui.edu: apache set sender to stephen.marquard@uct.ac.za using -f\n",
      "X-Content-Type-Outer-Envelope: text/plain; charset=UTF-8\n",
      "X-Content-Type-Message-Body: text/plain; charset=UTF-8\n",
      "X-DSPAM-Result: Innocent\n",
      "X-DSPAM-Processed: Fri Jan  4 04:07:34 2008\n",
      "X-DSPAM-Confidence: 0.7554\n",
      "X-DSPAM-Probability: 0.0000\n",
      "X-Sieve: CMU Sieve 2.3\n",
      "X-Authentication-Warning: nakamura.uits.iupui.edu: apache set sender to louis@media.berkeley.edu using -f\n",
      "X-Content-Type-Outer-Envelope: text/plain; charset=UTF-8\n",
      "X-Content-Type-Message-Body: text/plain; charset=UTF-8\n",
      "X-DSPAM-Result: Innocent\n",
      "X-DSPAM-Processed: Thu Jan  3 19:51:20 2008\n",
      "X-DSPAM-Confidence: 0.6956\n",
      "X-DSPAM-Probability: 0.0000\n",
      "X-Sieve: CMU Sieve 2.3\n",
      "X-Authentication-Warning: nakamura.uits.iupui.edu: apache set sender to louis@media.berkeley.edu using -f\n",
      "X-Content-Type-Outer-Envelope: text/plain; charset=UTF-8\n",
      "X-Content-Type-Message-Body: text/plain; charset=UTF-8\n",
      "X-DSPAM-Result: Innocent\n",
      "X-DSPAM-Processed: Thu Jan  3 17:18:23 2008\n",
      "X-DSPAM-Confidence: 0.6959\n",
      "X-DSPAM-Probability: 0.0000\n",
      "X-Sieve: CMU Sieve 2.3\n",
      "X-Authentication-Warning: nakamura.uits.iupui.edu: apache set sender to ray@media.berkeley.edu using -f\n",
      "X-Content-Type-Outer-Envelope: text/plain; charset=UTF-8\n",
      "X-Content-Type-Message-Body: text/plain; charset=UTF-8\n",
      "X-DSPAM-Result: Innocent\n",
      "X-DSPAM-Processed: Thu Jan  3 17:07:00 2008\n",
      "X-DSPAM-Confidence: 0.7556\n",
      "X-DSPAM-Probability: 0.0000\n",
      "X-Sieve: CMU Sieve 2.3\n",
      "X-Authentication-Warning: nakamura.uits.iupui.edu: apache set sender to cwen@iupui.edu using -f\n",
      "X-Content-Type-Outer-Envelope: text/plain; charset=UTF-8\n",
      "X-Content-Type-Message-Body: text/plain; charset=UTF-8\n",
      "X-DSPAM-Result: Innocent\n",
      "X-DSPAM-Processed: Thu Jan  3 16:34:40 2008\n",
      "X-DSPAM-Confidence: 0.9846\n",
      "X-DSPAM-Probability: 0.0000\n",
      "X-Sieve: CMU Sieve 2.3\n",
      "X-Authentication-Warning: nakamura.uits.iupui.edu: apache set sender to cwen@iupui.edu using -f\n",
      "X-Content-Type-Outer-Envelope: text/plain; charset=UTF-8\n",
      "X-Content-Type-Message-Body: text/plain; charset=UTF-8\n",
      "X-DSPAM-Result: Innocent\n",
      "X-DSPAM-Processed: Thu Jan  3 16:29:07 2008\n",
      "X-DSPAM-Confidence: 0.8509\n",
      "X-DSPAM-Probability: 0.0000\n",
      "X-Sieve: CMU Sieve 2.3\n",
      "X-Authentication-Warning: nakamura.uits.iupui.edu: apache set sender to cwen@iupui.edu using -f\n",
      "X-Content-Type-Outer-Envelope: text/plain; charset=UTF-8\n",
      "X-Content-Type-Message-Body: text/plain; charset=UTF-8\n",
      "X-DSPAM-Result: Innocent\n",
      "X-DSPAM-Processed: Thu Jan  3 16:23:48 2008\n",
      "X-DSPAM-Confidence: 0.9907\n",
      "X-DSPAM-Probability: 0.0000\n"
     ]
    }
   ],
   "source": [
    "hand = open('data/mbox-short.txt')\n",
    "for line in hand:\n",
    "    line = line.rstrip()\n",
    "    if re.search('^X.*:', line):\n",
    "        print(line)\n"
   ]
  },
  {
   "cell_type": "markdown",
   "metadata": {},
   "source": [
    "If we want the line finishes in `:` we should add a `$` right after the `:` that will match also the end of the line.\n",
    "\n",
    "Depending on how \"clean\" your data is and the purpose of your application, you might want to narrow your match down a bit. \n",
    "\n",
    "<span style=\"color:blue\"> ^ </span> X- <span style=\"color:red\"> \\S </span> <span style=\"color:green\"> + </span> :\n",
    "\n",
    "<span style=\"color:blue\"> ^ </span> <span style=\"color:blue\"> Match the start of the line </span>.\n",
    "\n",
    "<span style=\"color:red\"> \\S </span> <span style=\"color:red\"> Match any non-whitespace character </span>.\n",
    "\n",
    "<span style=\"color:green\"> + </span> <span style=\"color:green\"> One or more times </span>.\n",
    "\n",
    "With this we avoid lines that look like **X-Plane is behind schedule: two weeks**"
   ]
  },
  {
   "cell_type": "markdown",
   "metadata": {},
   "source": [
    "## Matching and extracting data\n",
    "\n",
    "* The `re.search()` returns a True/False depending on weather the string matches the regular expression.\n",
    "\n",
    "* If we actually want nthe matching strings to be extracted, we use `re.findall()`"
   ]
  },
  {
   "cell_type": "code",
   "execution_count": 28,
   "metadata": {
    "collapsed": false
   },
   "outputs": [
    {
     "name": "stdout",
     "output_type": "stream",
     "text": [
      "['2', '19', '42']\n"
     ]
    }
   ],
   "source": [
    "import re\n",
    "\n",
    "x = 'My 2 favorite numbers are 19 and 42 yeah'\n",
    "y = re.findall('[0-9]+', x)\n",
    "print(y)"
   ]
  },
  {
   "cell_type": "markdown",
   "metadata": {},
   "source": [
    "Here <span style=\"color:red\"> [0-9]+ </span> indicates one or more digits."
   ]
  },
  {
   "cell_type": "code",
   "execution_count": 29,
   "metadata": {
    "collapsed": false
   },
   "outputs": [
    {
     "name": "stdout",
     "output_type": "stream",
     "text": [
      "[]\n"
     ]
    }
   ],
   "source": [
    "#What if we try to search for uppercase vowels? \n",
    "y = re.findall('[AEIOU]+', x)\n",
    "print(y)"
   ]
  },
  {
   "cell_type": "code",
   "execution_count": 30,
   "metadata": {
    "collapsed": false
   },
   "outputs": [
    {
     "name": "stdout",
     "output_type": "stream",
     "text": [
      "['a', 'o', 'i', 'e', 'u', 'e', 'a', 'e', 'a', 'ea']\n"
     ]
    }
   ],
   "source": [
    "#What if we try to search for lowercase vowels and more? \n",
    "y = re.findall('[aeiou]+', x)\n",
    "print(y)"
   ]
  },
  {
   "cell_type": "markdown",
   "metadata": {
    "collapsed": true
   },
   "source": [
    "### Warning: Greedy matching\n",
    "\n",
    "The <span style=\"color:red\"> repeat </span> characters ( <span style=\"color:red\"> * </span> and <span style=\"color:red\"> + </span>) push outwards in both directions (greedy) to match the largest possible string. "
   ]
  },
  {
   "cell_type": "code",
   "execution_count": 31,
   "metadata": {
    "collapsed": false
   },
   "outputs": [
    {
     "name": "stdout",
     "output_type": "stream",
     "text": [
      "['From: Using the :']\n"
     ]
    }
   ],
   "source": [
    "import re \n",
    "x = 'From: Using the : character'\n",
    "y = re.findall('^F.+:', x)\n",
    "print(y)"
   ]
  },
  {
   "cell_type": "markdown",
   "metadata": {},
   "source": [
    "<span style=\"color:blue\">^F</span> <span style=\"color:red\">.+</span> :\n",
    "\n",
    "<span style=\"color:blue\"> ^F </span> <span style=\"color:blue\"> First character in the match is F </span>.\n",
    "\n",
    "<span style=\"color:red\"> .+ </span> <span style=\"color:red\"> One or more characters character </span>.\n",
    "\n",
    "`:` Last character in the match is a `:`."
   ]
  },
  {
   "cell_type": "markdown",
   "metadata": {},
   "source": [
    "### Non-greedy macthing.\n",
    "\n",
    "Not all regular expression repeat codes are greedy! if you add `?` character, the `+` and `*` chill out a bit."
   ]
  },
  {
   "cell_type": "code",
   "execution_count": 32,
   "metadata": {
    "collapsed": false
   },
   "outputs": [
    {
     "name": "stdout",
     "output_type": "stream",
     "text": [
      "['From:']\n"
     ]
    }
   ],
   "source": [
    "import re \n",
    "x = 'From: Using the : character'\n",
    "y = re.findall('^F.+?:', x)\n",
    "print(y)"
   ]
  },
  {
   "cell_type": "markdown",
   "metadata": {},
   "source": [
    "<span style=\"color:blue\"> ^F </span>  <span style=\"color:red\"> .+? </span> :\n",
    "\n",
    "<span style=\"color:blue\"> ^F </span> <span style=\"color:blue\"> First character in the match is F </span>.\n",
    "\n",
    "<span style=\"color:red\"> .+? </span> <span style=\"color:red\"> One or more characters character but not greedy </span>.\n",
    "\n",
    "`:` Last character in the match is a `:`."
   ]
  },
  {
   "cell_type": "markdown",
   "metadata": {},
   "source": [
    "## Fine-tuning string extraction.\n",
    "\n",
    "We can refine the match for `re.findall()` and separately determine which part of the match we will extract by using parenthesis.\n",
    "\n",
    "Let's suppose we have a line that looks like this:\n",
    "\n",
    "    From stephen.marquard@uct.ac.za Sat Jan 5 09:14:16 2008\n",
    "    \n",
    "and we just want to extract the email address. We've done this before with pure python, but let's see how to do it with **regular expressions**."
   ]
  },
  {
   "cell_type": "code",
   "execution_count": 33,
   "metadata": {
    "collapsed": false
   },
   "outputs": [
    {
     "name": "stdout",
     "output_type": "stream",
     "text": [
      "['stephen.marquard@uct.ac.za']\n"
     ]
    }
   ],
   "source": [
    "x = 'From stephen.marquard@uct.ac.za Sat Jan 5 09:14:16 2008'\n",
    "y = re.findall('\\S+@\\S+', x)\n",
    "print(y)"
   ]
  },
  {
   "cell_type": "markdown",
   "metadata": {},
   "source": [
    "Let's exaplain the regular expression we just used.\n",
    "\n",
    "<span style=\"color:blue\">\\S+</span>@<span style=\"color:blue\">\\S+</span>:\n",
    "\n",
    "* <span style=\"color:blue\"> \\S+ At least one non-white space</span> \n",
    "\n",
    "In pother words, we are looking for the `@` character and all non-white space charaters to the left and to the right until it hits a white space. "
   ]
  },
  {
   "cell_type": "markdown",
   "metadata": {},
   "source": [
    "What if we want the email address but we want specify that we want that information from the lines that starts with \"From\". In this case we will use **parentheses** to indicate where to start and end the extracting.\n",
    "\n",
    "* **Parentheses** are not part of the match, but they indicate where to **start** and **stop** what string to extract. \n",
    "\n",
    "In this case the code would be:"
   ]
  },
  {
   "cell_type": "code",
   "execution_count": 34,
   "metadata": {
    "collapsed": false
   },
   "outputs": [
    {
     "name": "stdout",
     "output_type": "stream",
     "text": [
      "['stephen.marquard@uct.ac.za']\n"
     ]
    }
   ],
   "source": [
    "x = 'From stephen.marquard@uct.ac.za Sat Jan 5 09:14:16 2008'\n",
    "y = re.findall('^From (\\S+@\\S+)', x)\n",
    "print(y)"
   ]
  },
  {
   "cell_type": "markdown",
   "metadata": {},
   "source": [
    "You'll notice that is the same, but try and see what happen if we put a ':' right after 'From'. In the first case we will get the email, in the second not. \n",
    "\n",
    "What if we just want to extract the **host name** (what is right after the `@`). With python we did find for the `@` and then we used slicing or splitting techniques to get the host name. Let's see how would it be if we use regular expressions."
   ]
  },
  {
   "cell_type": "code",
   "execution_count": 35,
   "metadata": {
    "collapsed": false
   },
   "outputs": [
    {
     "name": "stdout",
     "output_type": "stream",
     "text": [
      "['uct.ac.za']\n"
     ]
    }
   ],
   "source": [
    "lin = 'From stephen.marquard@uct.ac.za Sat Jan 5 09:14:16 2008'\n",
    "y = re.findall('@([^ ]*)', lin)\n",
    "print(y)"
   ]
  },
  {
   "cell_type": "markdown",
   "metadata": {},
   "source": [
    "Let's see what  '`@`<span style=\"color:blue\">(</span> <span style=\"color:red\">[^ ]</span> <span style=\"color:green\">*</span> <span style=\"color:blue\">)</span>' means:\n",
    "\n",
    "* <span style=\"color:blue\">( ) indicates where to start and when to stop the extraction.</span> \n",
    "\n",
    "* <span style=\"color:red\">[^ ] means match non-blank character. Here `^` it's a negation (coding) not a regular expression.</span> \n",
    "\n",
    "* <span style=\"color:green\"> * match many of them. </span> "
   ]
  },
  {
   "cell_type": "markdown",
   "metadata": {},
   "source": [
    "If we want to extratc this infromation only from the lines that start with 'From' then we add '^From' at the en of the regular expression: "
   ]
  },
  {
   "cell_type": "code",
   "execution_count": 36,
   "metadata": {
    "collapsed": false
   },
   "outputs": [
    {
     "name": "stdout",
     "output_type": "stream",
     "text": [
      "['uct.ac.za']\n"
     ]
    }
   ],
   "source": [
    "lin = 'From stephen.marquard@uct.ac.za Sat Jan 5 09:14:16 2008'\n",
    "y = re.findall('^From .*@([^ ]*)', lin)\n",
    "print(y)"
   ]
  },
  {
   "cell_type": "markdown",
   "metadata": {},
   "source": [
    "`^From .*@([^ ]*)`\n",
    "\n",
    "Is the same that what we have before except we add `^From` to look for the lines that start with 'From' and also we add `.*` before the `@` what indicates to skip bunch of characters until it hits the `@`."
   ]
  },
  {
   "cell_type": "markdown",
   "metadata": {},
   "source": [
    "### Example of spam confidence\n",
    "\n",
    "We did this before with python, let's see how it works with regular expressions."
   ]
  },
  {
   "cell_type": "code",
   "execution_count": 37,
   "metadata": {
    "collapsed": false
   },
   "outputs": [
    {
     "name": "stdout",
     "output_type": "stream",
     "text": [
      "('Maximum:', 0.9907)\n"
     ]
    }
   ],
   "source": [
    "hand = open('data/mbox-short.txt')\n",
    "numlist = list()\n",
    "\n",
    "for line in hand:\n",
    "    line = line.rstrip()\n",
    "    stuff = re.findall('^X-DSPAM-Confidence: ([0-9.]+)', line)\n",
    "    if len(stuff) != 1 : continue \n",
    "    #print(stuff)    \n",
    "    num = float(stuff[0])\n",
    "    numlist.append(num)\n",
    "#print(numlist)    \n",
    "print('Maximum:', max(numlist))"
   ]
  },
  {
   "cell_type": "markdown",
   "metadata": {},
   "source": [
    "The regular expression `[0-9.]+` matches for digits or decimal, here '.' inside the square brackets is NOT a wild card.   "
   ]
  },
  {
   "cell_type": "markdown",
   "metadata": {},
   "source": [
    "## Summary\n",
    "\n",
    "* Regular expressions are cryptic but powerful language for matching strings and extracting elements from those strings.\n",
    "\n",
    "* Regular expressions have special character that indicate intent."
   ]
  },
  {
   "cell_type": "code",
   "execution_count": 38,
   "metadata": {
    "collapsed": false
   },
   "outputs": [
    {
     "data": {
      "text/html": [
       "<link href='http://fonts.googleapis.com/css?family=Fenix' rel='stylesheet' type='text/css'>\n",
       "<link href='http://fonts.googleapis.com/css?family=Alegreya+Sans:100,300,400,500,700,800,900,100italic,300italic,400italic,500italic,700italic,800italic,900italic' rel='stylesheet' type='text/css'>\n",
       "<link href='http://fonts.googleapis.com/css?family=Source+Code+Pro:300,400' rel='stylesheet' type='text/css'>\n",
       "<style>\n",
       "\n",
       "@font-face {\n",
       "    font-family: \"Computer Modern\";\n",
       "    src: url('http://mirrors.ctan.org/fonts/cm-unicode/fonts/otf/cmunss.otf');\n",
       "}\n",
       "\n",
       "\n",
       "#notebook_panel { /* main background */\n",
       "    background: rgb(245,245,245);\n",
       "}\n",
       "\n",
       "div.cell { /* set cell width */\n",
       "    width: 750px;\n",
       "}\n",
       "\n",
       "div #notebook { /* centre the content */\n",
       "    background: #fff; /* white background for content */\n",
       "    width: 1000px;\n",
       "    margin: auto;\n",
       "    padding-left: 0em;\n",
       "}\n",
       "\n",
       "#notebook li { /* More space between bullet points */\n",
       "margin-top:0.8em;\n",
       "}\n",
       "\n",
       "/* draw border around running cells */\n",
       "div.cell.border-box-sizing.code_cell.running { \n",
       "    border: 1px solid #111;\n",
       "}\n",
       "\n",
       "/* Put a solid color box around each cell and its output, visually linking them*/\n",
       "div.cell.code_cell {\n",
       "    background-color: rgb(256,256,256); \n",
       "    border-radius: 0px; \n",
       "    padding: 0.5em;\n",
       "    margin-left:1em;\n",
       "    margin-top: 1em;\n",
       "}\n",
       "\n",
       "\n",
       "div.text_cell_render{\n",
       "    font-family: 'Alegreya Sans' sans-serif;\n",
       "    line-height: 140%;\n",
       "    font-size: 125%;\n",
       "    font-weight: 400;\n",
       "    width:600px;\n",
       "    margin-left:auto;\n",
       "    margin-right:auto;\n",
       "}\n",
       "\n",
       "/* Formatting for header cells */\n",
       ".text_cell_render h1 {\n",
       "    font-family: 'Fenix', sans-serif;\n",
       "    font-style:regular;\n",
       "    font-weight: 200;    \n",
       "    font-size: 40pt;\n",
       "    line-height: 100%;\n",
       "    color: #138d75;\n",
       "    margin-bottom: 0.5em;\n",
       "    margin-top: 0.5em;\n",
       "    display: block;\n",
       "}\t\n",
       ".text_cell_render h2 {\n",
       "    font-family: 'Fenix', serif;\n",
       "    font-size: 20pt;\n",
       "    line-height: 100%;\n",
       "    margin-bottom: 0.1em;\n",
       "    color: #1f618d;\n",
       "    margin-top: 0.3em;\n",
       "    display: block;\n",
       "}\t\n",
       "\n",
       ".text_cell_render h3 {\n",
       "    font-family: 'Fenix', serif;\n",
       "    margin-top:12px;\n",
       "\tfont-size: 16pt;\n",
       "    margin-bottom: 3px;\n",
       "    font-style: regular;\n",
       "}\n",
       "\n",
       ".text_cell_render h4 {    /*Use this for captions*/\n",
       "    font-family: 'Fenix', serif;\n",
       "    font-size: 2pt;\n",
       "    text-align: center;\n",
       "    margin-top: 0em;\n",
       "    margin-bottom: 2em;\n",
       "    font-style: regular;\n",
       "}\n",
       "\n",
       ".text_cell_render h5 {  /*Use this for small titles*/\n",
       "    font-family: 'Alegreya Sans', sans-serif;\n",
       "    font-weight: 300;\n",
       "    font-size: 16pt;\n",
       "    color: #CD2305;\n",
       "    font-style: italic;\n",
       "    margin-bottom: .5em;\n",
       "    margin-top: 0.5em;\n",
       "    display: block;\n",
       "}\n",
       "\n",
       ".text_cell_render h6 { /*use this for copyright note*/\n",
       "    font-family: 'Source Code Pro', sans-serif;\n",
       "    font-weight: 300;\n",
       "    font-size: 9pt;\n",
       "    line-height: 100%;\n",
       "    color: grey;\n",
       "    margin-bottom: 1px;\n",
       "    margin-top: 1px;\n",
       "}\n",
       "\n",
       "    .CodeMirror{\n",
       "            font-family: \"Source Code Pro\";\n",
       "\t\t\tfont-size: 90%;\n",
       "    }\n",
       "/*    .prompt{\n",
       "        display: None;\n",
       "    }*/\n",
       "\t\n",
       "    \n",
       "    .warning{\n",
       "        color: rgb( 240, 20, 20 )\n",
       "        }  \n",
       "</style>\n",
       "<script>\n",
       "    MathJax.Hub.Config({\n",
       "                        TeX: {\n",
       "                           extensions: [\"AMSmath.js\"], \n",
       "                           equationNumbers: { autoNumber: \"AMS\", useLabelIds: true}\n",
       "                           },\n",
       "                tex2jax: {\n",
       "                    inlineMath: [ ['$','$'], [\"\\\\(\",\"\\\\)\"] ],\n",
       "                    displayMath: [ ['$$','$$'], [\"\\\\[\",\"\\\\]\"] ]\n",
       "                },\n",
       "                displayAlign: 'center', // Change this to 'center' to center equations.\n",
       "                \"HTML-CSS\": {\n",
       "                    styles: {'.MathJax_Display': {\"margin\": 4}}\n",
       "                }\n",
       "        });\n",
       "</script>\n"
      ],
      "text/plain": [
       "<IPython.core.display.HTML object>"
      ]
     },
     "execution_count": 38,
     "metadata": {},
     "output_type": "execute_result"
    }
   ],
   "source": [
    "from IPython.core.display import HTML\n",
    "def css_styling():\n",
    "    styles = open(\"styles/custom.css\", \"r\").read()\n",
    "    return HTML(styles)\n",
    "css_styling()"
   ]
  }
 ],
 "metadata": {
  "anaconda-cloud": {},
  "kernelspec": {
   "display_name": "Python [conda env:py2]",
   "language": "python",
   "name": "conda-env-py2-py"
  },
  "language_info": {
   "codemirror_mode": {
    "name": "ipython",
    "version": 2
   },
   "file_extension": ".py",
   "mimetype": "text/x-python",
   "name": "python",
   "nbconvert_exporter": "python",
   "pygments_lexer": "ipython2",
   "version": "2.7.12"
  }
 },
 "nbformat": 4,
 "nbformat_minor": 1
}
