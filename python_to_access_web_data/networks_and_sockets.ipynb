{
 "cells": [
  {
   "cell_type": "markdown",
   "metadata": {},
   "source": [
    "# Networks and sockets\n",
    "\n",
    "This is a small intro to network and sockets, if we want to learn more, we can take Dr.Chuck course \"Introduction to networking\". "
   ]
  },
  {
   "cell_type": "markdown",
   "metadata": {},
   "source": [
    "## Transport control protocol (TCP)\n",
    "\n",
    "* Built on top of IP (Internet Protocol).\n",
    "* Assumes IP might lose some data - stores and retransmits data if it seems to be lost.\n",
    "* Handles \"flow control\" using a transmit window.\n",
    "* Provides a nice reliable pipe.\n",
    "\n",
    "### TCP connections / Sockets\n",
    "\n",
    "\"An internet **socket** or network socket is an endpoint of a bidirectional inter-process communication flow across an Internet Protocol-based computer network, such as the *Internet*.\" \n",
    "\n",
    "### TCP port numbers\n",
    "\n",
    "* A port is an application-specific or process-specific software communications endpoint. \n",
    "* It allows multiple networked applications to coexist on the same server.\n",
    "* There is a list of well-known TCP port numbers."
   ]
  },
  {
   "cell_type": "markdown",
   "metadata": {},
   "source": [
    "## Sockets in Python\n",
    "\n",
    "Python has a built-in support for TCP sockets, because Python is great. \n",
    "\n",
    "We will usually create a socket and comunicate through it doing the following:\n",
    "\n",
    "```\n",
    "import socket\n",
    "mysock = socket.socket(socket.AF_INET, socket.SOCK_STREAM)\n",
    "mysock.connect(('www.py4inf.com', 80))\n",
    "```\n",
    "\n",
    "Here the second line basically says \"create a socket\". The parameter `socket.AF_INET` says \"I'm going to make an internet socket\" and the `socket.SOCK_STREAM` one says \"I'm going to do a stream socket\" (A stream socket means that I'm just going to send data, and I'm going to get back the data and just keep track of the data, give it back to me in order). We won't probably change these parameters for the purposes of this course. The third line says \"please stablish a connection between me and find the host `www.py4info.com` and go to port 80 on that\". Then if there is a web server connected, then we can actually send data back and forth. "
   ]
  },
  {
   "cell_type": "markdown",
   "metadata": {},
   "source": [
    "# From sockets to applications. \n",
    "\n",
    "To get a visual idea of the stack connection, go to this [link](https://en.wikipedia.org/wiki/Internet_protocol_suite) and look at the image in \n",
    "the section called *abstraction layers.*\n",
    "\n",
    "## Application Protocol\n",
    "\n",
    "* TCP (and Python) gives us a reliable **socket**, but what do we want to do with this?:\n",
    "\n",
    "    Well we are not just interested in creating sockets, we want to do something more interesting like *web browsing* to a web server.\n",
    "\n",
    "* Application Protocols\n",
    "\n",
    "    - Mail\n",
    "    - World Wide Web\n",
    "    \n",
    "### HTTP - Hypertext Transport Protocol\n",
    "\n",
    "*Definition*: A **Protocol** is a set of rules that all parties follow for so we can predict each other's behaviour and basically not bump into each other.\n",
    "\n",
    "*Definition:* The **H**yper**Text** **T**ransport **P**rotocol is a set of rules to allow browsers to retrieve web documents from servers over the internet.\n",
    "\n",
    "* It's the dominant application layer protocol on the internet.\n",
    "* Invented for the Web to retrieve HTML, images, documents, etc.\n",
    "* Extended to be data in addition to documents - Web services, etc.\n",
    "\n",
    "**Basic concept:** \n",
    "\n",
    "Make the connection - Request a document - Retrieve the document - Close the conection. \n"
   ]
  },
  {
   "cell_type": "markdown",
   "metadata": {},
   "source": [
    "## The uniform resource locator (url)\n",
    "\n",
    "If we take a look to a typical **url** we can identify three components:\n",
    "\n",
    "<span style=\"color:green\"> http:// </span> <span style=\"color:blue\"> www.dr-chuck.com </span> <span style=\"color:red\"> /page1.htm </span> \n",
    "\n",
    "<span style=\"color:green\"> protcol </span> <span style=\"color:blue\"> host </span> <span style=\"color:red\"> document </span> \n",
    "\n",
    "So we are goint to connect to the <span style=\"color:green\"> host </span> and use the <span style=\"color:blue\"> protocol </span> to request the <span style=\"color:red\"> document </span>."
   ]
  },
  {
   "cell_type": "markdown",
   "metadata": {},
   "source": [
    "## Request - response cycle\n",
    "\n",
    "### Getting data from the server\n",
    "\n",
    "* Each time the user clicks on an anchor tag with an **href=** value to switch to a new page, the broweser makes a connection to the web server and issues a **\"GET\"** request - to **GET** the content of the page at the specified **URL**.\n",
    "\n",
    "* The server returns the **HTML** document to the browser, which formats and displays the documents to the user.\n"
   ]
  },
  {
   "cell_type": "raw",
   "metadata": {},
   "source": [
    "                        Web Browser (Port 80)\n",
    "                                 | ∧\n",
    "                                 ∨ |\n",
    "           The First page ----> Browser ----> The Second page    \n",
    "                                "
   ]
  },
  {
   "cell_type": "markdown",
   "metadata": {},
   "source": [
    "## How to do an HTTP request in Python"
   ]
  },
  {
   "cell_type": "code",
   "execution_count": 2,
   "metadata": {
    "collapsed": false
   },
   "outputs": [
    {
     "name": "stdout",
     "output_type": "stream",
     "text": [
      "HTTP/1.1 200 OK\r\n",
      "Content-Type: text/plain\r\n",
      "Content-Length: 167\r\n",
      "Connection: close\r\n",
      "Date: Wed, 12 Oct 2016 16:21:37 GMT\r\n",
      "Server: Apache\r\n",
      "Last-Modified: Fri, 04 Dec 2015 19:05:04 GMT\r\n",
      "ETag: \"a7-526172f5b5d89\"\r\n",
      "Accept-Ranges: bytes\r\n",
      "Cache-Control: max-age=604800, public\r\n",
      "Access-Control-Allow-Origin: *\r\n",
      "Access-Control-Allow-Headers: origin, x-requested-with, content-type\r\n",
      "Access-Control-Allow-Methods: GET\r\n",
      "\r\n",
      "But soft what light through yonder window breaks\n",
      "It is the east and Juliet is the sun\n",
      "Arise fair sun and\n",
      " kill the envious moon\n",
      "Who is already sick and pale with grief\n",
      "\n"
     ]
    }
   ],
   "source": [
    "import socket \n",
    "\n",
    "#open a socket\n",
    "mysock = socket.socket(socket.AF_INET, socket.SOCK_STREAM)\n",
    "#connect the socket\n",
    "mysock.connect(('www.py4inf.com', 80))\n",
    "# Send a request for the data I want\n",
    "mysock.send('GET http://www.py4inf.com/code/romeo.txt HTTP/1.0\\n\\n')\n",
    "\n",
    "#Receive the data and do something with it. \n",
    "while True:\n",
    "    data = mysock.recv(512) # 512 is the max amount of characters at a time \n",
    "    if (len(data) < 1):\n",
    "        break\n",
    "    print(data)\n",
    "\n",
    "mysock.close()"
   ]
  },
  {
   "cell_type": "markdown",
   "metadata": {},
   "source": [
    "The code above will give as back an HTTP header a blank line and then the document we requested. Even though the previous code is easy, we can make things even easier and shorter by using the **urllib** python library. \n",
    "\n",
    "Since HTTP is so common, we have a library that does all the socket work for us and makes web pages look like a file. \n",
    "\n",
    "The code above using **urllib** looks like this:"
   ]
  },
  {
   "cell_type": "code",
   "execution_count": 3,
   "metadata": {
    "collapsed": false
   },
   "outputs": [
    {
     "name": "stdout",
     "output_type": "stream",
     "text": [
      "But soft what light through yonder window breaks\n",
      "It is the east and Juliet is the sun\n",
      "Arise fair sun and kill the envious moon\n",
      "Who is already sick and pale with grief\n"
     ]
    }
   ],
   "source": [
    "import urllib \n",
    "\n",
    "fhand = urllib.urlopen('http://www.py4inf.com/code/romeo.txt')\n",
    "\n",
    "for line in fhand:\n",
    "    print(line.strip())"
   ]
  },
  {
   "cell_type": "markdown",
   "metadata": {},
   "source": [
    "Yes! only 4 lines, and you can notice that it doesn't include the HTTP header, that is because python assumes you might not need it. If you need the header, there are ways to tell `urllib` you want it. \n",
    "\n",
    "The great thing about **urllib** is that it makes look web pages as files, so then we can do all the things we used to do with files in the previous courses. For example:\n"
   ]
  },
  {
   "cell_type": "code",
   "execution_count": 4,
   "metadata": {
    "collapsed": false
   },
   "outputs": [
    {
     "name": "stdout",
     "output_type": "stream",
     "text": [
      "{'and': 3, 'envious': 1, 'already': 1, 'fair': 1, 'is': 3, 'through': 1, 'pale': 1, 'yonder': 1, 'what': 1, 'sun': 2, 'Who': 1, 'But': 1, 'moon': 1, 'window': 1, 'sick': 1, 'east': 1, 'breaks': 1, 'grief': 1, 'with': 1, 'light': 1, 'It': 1, 'Arise': 1, 'kill': 1, 'the': 3, 'soft': 1, 'Juliet': 1}\n"
     ]
    }
   ],
   "source": [
    "import urllib \n",
    "\n",
    "fhand = urllib.urlopen('http://www.py4inf.com/code/romeo.txt')\n",
    "\n",
    "counts = dict()\n",
    "for line in fhand:\n",
    "    words = line.split()\n",
    "    for word in words:\n",
    "        counts[word] = counts.get(word,0) + 1\n",
    "\n",
    "print(counts)"
   ]
  },
  {
   "cell_type": "code",
   "execution_count": 1,
   "metadata": {
    "collapsed": false
   },
   "outputs": [
    {
     "data": {
      "text/html": [
       "<link href='http://fonts.googleapis.com/css?family=Fenix' rel='stylesheet' type='text/css'>\n",
       "<link href='http://fonts.googleapis.com/css?family=Alegreya+Sans:100,300,400,500,700,800,900,100italic,300italic,400italic,500italic,700italic,800italic,900italic' rel='stylesheet' type='text/css'>\n",
       "<link href='http://fonts.googleapis.com/css?family=Source+Code+Pro:300,400' rel='stylesheet' type='text/css'>\n",
       "<style>\n",
       "\n",
       "@font-face {\n",
       "    font-family: \"Computer Modern\";\n",
       "    src: url('http://mirrors.ctan.org/fonts/cm-unicode/fonts/otf/cmunss.otf');\n",
       "}\n",
       "\n",
       "\n",
       "#notebook_panel { /* main background */\n",
       "    background: rgb(245,245,245);\n",
       "}\n",
       "\n",
       "div.cell { /* set cell width */\n",
       "    width: 750px;\n",
       "}\n",
       "\n",
       "div #notebook { /* centre the content */\n",
       "    background: #fff; /* white background for content */\n",
       "    width: 1000px;\n",
       "    margin: auto;\n",
       "    padding-left: 0em;\n",
       "}\n",
       "\n",
       "#notebook li { /* More space between bullet points */\n",
       "margin-top:0.8em;\n",
       "}\n",
       "\n",
       "/* draw border around running cells */\n",
       "div.cell.border-box-sizing.code_cell.running { \n",
       "    border: 1px solid #111;\n",
       "}\n",
       "\n",
       "/* Put a solid color box around each cell and its output, visually linking them*/\n",
       "div.cell.code_cell {\n",
       "    background-color: rgb(256,256,256); \n",
       "    border-radius: 0px; \n",
       "    padding: 0.5em;\n",
       "    margin-left:1em;\n",
       "    margin-top: 1em;\n",
       "}\n",
       "\n",
       "\n",
       "div.text_cell_render{\n",
       "    font-family: 'Alegreya Sans' sans-serif;\n",
       "    line-height: 140%;\n",
       "    font-size: 125%;\n",
       "    font-weight: 400;\n",
       "    width:600px;\n",
       "    margin-left:auto;\n",
       "    margin-right:auto;\n",
       "}\n",
       "\n",
       "/* Formatting for header cells */\n",
       ".text_cell_render h1 {\n",
       "    font-family: 'Fenix', sans-serif;\n",
       "    font-style:regular;\n",
       "    font-weight: 200;    \n",
       "    font-size: 40pt;\n",
       "    line-height: 100%;\n",
       "    color: #138d75;\n",
       "    margin-bottom: 0.5em;\n",
       "    margin-top: 0.5em;\n",
       "    display: block;\n",
       "}\t\n",
       ".text_cell_render h2 {\n",
       "    font-family: 'Fenix', serif;\n",
       "    font-size: 20pt;\n",
       "    line-height: 100%;\n",
       "    margin-bottom: 0.1em;\n",
       "    color: #1f618d;\n",
       "    margin-top: 0.3em;\n",
       "    display: block;\n",
       "}\t\n",
       "\n",
       ".text_cell_render h3 {\n",
       "    font-family: 'Fenix', serif;\n",
       "    margin-top:12px;\n",
       "\tfont-size: 16pt;\n",
       "    margin-bottom: 3px;\n",
       "    font-style: regular;\n",
       "}\n",
       "\n",
       ".text_cell_render h4 {    /*Use this for captions*/\n",
       "    font-family: 'Fenix', serif;\n",
       "    font-size: 2pt;\n",
       "    text-align: center;\n",
       "    margin-top: 0em;\n",
       "    margin-bottom: 2em;\n",
       "    font-style: regular;\n",
       "}\n",
       "\n",
       ".text_cell_render h5 {  /*Use this for small titles*/\n",
       "    font-family: 'Alegreya Sans', sans-serif;\n",
       "    font-weight: 300;\n",
       "    font-size: 16pt;\n",
       "    color: #CD2305;\n",
       "    font-style: italic;\n",
       "    margin-bottom: .5em;\n",
       "    margin-top: 0.5em;\n",
       "    display: block;\n",
       "}\n",
       "\n",
       ".text_cell_render h6 { /*use this for copyright note*/\n",
       "    font-family: 'Source Code Pro', sans-serif;\n",
       "    font-weight: 300;\n",
       "    font-size: 9pt;\n",
       "    line-height: 100%;\n",
       "    color: grey;\n",
       "    margin-bottom: 1px;\n",
       "    margin-top: 1px;\n",
       "}\n",
       "\n",
       "    .CodeMirror{\n",
       "            font-family: \"Source Code Pro\";\n",
       "\t\t\tfont-size: 90%;\n",
       "    }\n",
       "/*    .prompt{\n",
       "        display: None;\n",
       "    }*/\n",
       "\t\n",
       "    \n",
       "    .warning{\n",
       "        color: rgb( 240, 20, 20 )\n",
       "        }  \n",
       "</style>\n",
       "<script>\n",
       "    MathJax.Hub.Config({\n",
       "                        TeX: {\n",
       "                           extensions: [\"AMSmath.js\"], \n",
       "                           equationNumbers: { autoNumber: \"AMS\", useLabelIds: true}\n",
       "                           },\n",
       "                tex2jax: {\n",
       "                    inlineMath: [ ['$','$'], [\"\\\\(\",\"\\\\)\"] ],\n",
       "                    displayMath: [ ['$$','$$'], [\"\\\\[\",\"\\\\]\"] ]\n",
       "                },\n",
       "                displayAlign: 'center', // Change this to 'center' to center equations.\n",
       "                \"HTML-CSS\": {\n",
       "                    styles: {'.MathJax_Display': {\"margin\": 4}}\n",
       "                }\n",
       "        });\n",
       "</script>\n"
      ],
      "text/plain": [
       "<IPython.core.display.HTML object>"
      ]
     },
     "execution_count": 1,
     "metadata": {},
     "output_type": "execute_result"
    }
   ],
   "source": [
    "from IPython.core.display import HTML\n",
    "def css_styling():\n",
    "    styles = open(\"styles/custom.css\", \"r\").read()\n",
    "    return HTML(styles)\n",
    "css_styling()"
   ]
  }
 ],
 "metadata": {
  "anaconda-cloud": {},
  "kernelspec": {
   "display_name": "Python [conda env:py2]",
   "language": "python",
   "name": "conda-env-py2-py"
  },
  "language_info": {
   "codemirror_mode": {
    "name": "ipython",
    "version": 2
   },
   "file_extension": ".py",
   "mimetype": "text/x-python",
   "name": "python",
   "nbconvert_exporter": "python",
   "pygments_lexer": "ipython2",
   "version": "2.7.12"
  }
 },
 "nbformat": 4,
 "nbformat_minor": 1
}
