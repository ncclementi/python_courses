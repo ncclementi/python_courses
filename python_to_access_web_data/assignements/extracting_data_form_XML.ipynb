{
 "cells": [
  {
   "cell_type": "code",
   "execution_count": 5,
   "metadata": {
    "collapsed": true
   },
   "outputs": [],
   "source": [
    "import urllib\n",
    "import xml.etree.ElementTree as ET\n"
   ]
  },
  {
   "cell_type": "code",
   "execution_count": 6,
   "metadata": {
    "collapsed": true
   },
   "outputs": [],
   "source": [
    "serviceurl = 'http://python-data.dr-chuck.net/comments_42.xml '"
   ]
  },
  {
   "cell_type": "code",
   "execution_count": 8,
   "metadata": {
    "collapsed": false
   },
   "outputs": [
    {
     "name": "stdout",
     "output_type": "stream",
     "text": [
      "Retrieving http://python-data.dr-chuck.net/comments_42.xml \n",
      "Retrieved 4189 characters\n"
     ]
    }
   ],
   "source": [
    "url = serviceurl\n",
    "print 'Retrieving', url\n",
    "uh = urllib.urlopen(url)\n",
    "data = uh.read()\n",
    "print 'Retrieved',len(data),'characters'\n",
    "#print data\n",
    "tree = ET.fromstring(data)    "
   ]
  },
  {
   "cell_type": "code",
   "execution_count": 12,
   "metadata": {
    "collapsed": false
   },
   "outputs": [
    {
     "name": "stdout",
     "output_type": "stream",
     "text": [
      "2553\n"
     ]
    }
   ],
   "source": [
    "lst = tree.findall('comments/comment')\n",
    "sum_count = 0\n",
    "for item in lst:\n",
    "    #print ('Count: {}'.format(item.find('count').text))\n",
    "    sum_count += int(item.find('count').text)\n",
    "\n",
    "print sum_count"
   ]
  },
  {
   "cell_type": "code",
   "execution_count": 15,
   "metadata": {
    "collapsed": true
   },
   "outputs": [],
   "source": [
    "serviceurl_a = 'http://python-data.dr-chuck.net/comments_317034.xml'"
   ]
  },
  {
   "cell_type": "code",
   "execution_count": 16,
   "metadata": {
    "collapsed": false
   },
   "outputs": [
    {
     "name": "stdout",
     "output_type": "stream",
     "text": [
      "Retrieving http://python-data.dr-chuck.net/comments_317034.xml\n",
      "Retrieved 4222 characters\n"
     ]
    }
   ],
   "source": [
    "url_a = serviceurl_a\n",
    "print 'Retrieving', url_a\n",
    "uh_a = urllib.urlopen(url_a)\n",
    "data_a = uh_a.read()\n",
    "print 'Retrieved',len(data_a),'characters'\n",
    "#print data\n",
    "tree_a = ET.fromstring(data_a) "
   ]
  },
  {
   "cell_type": "code",
   "execution_count": 17,
   "metadata": {
    "collapsed": false
   },
   "outputs": [
    {
     "name": "stdout",
     "output_type": "stream",
     "text": [
      "2934\n"
     ]
    }
   ],
   "source": [
    "lst_a = tree_a.findall('comments/comment')\n",
    "sum_count_a = 0\n",
    "for item in lst_a:\n",
    "    #print ('Count: {}'.format(item.find('count').text))\n",
    "    sum_count_a += int(item.find('count').text)\n",
    "\n",
    "print sum_count_a"
   ]
  },
  {
   "cell_type": "code",
   "execution_count": null,
   "metadata": {
    "collapsed": true
   },
   "outputs": [],
   "source": []
  }
 ],
 "metadata": {
  "anaconda-cloud": {},
  "kernelspec": {
   "display_name": "Python [conda env:py2]",
   "language": "python",
   "name": "conda-env-py2-py"
  },
  "language_info": {
   "codemirror_mode": {
    "name": "ipython",
    "version": 2
   },
   "file_extension": ".py",
   "mimetype": "text/x-python",
   "name": "python",
   "nbconvert_exporter": "python",
   "pygments_lexer": "ipython2",
   "version": "2.7.12"
  }
 },
 "nbformat": 4,
 "nbformat_minor": 1
}
