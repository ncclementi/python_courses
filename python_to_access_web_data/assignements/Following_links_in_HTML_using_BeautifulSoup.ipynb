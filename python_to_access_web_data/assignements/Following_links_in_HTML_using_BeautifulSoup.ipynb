{
 "cells": [
  {
   "cell_type": "markdown",
   "metadata": {},
   "source": [
    "## Following Links in Python\n",
    "\n",
    "In this assignment you will write a Python program that expands on http://www.pythonlearn.com/code/urllinks.py. The program will use urllib to read the HTML from the data files below, extract the href= vaues from the anchor tags, scan for a tag that is in a particular position relative to the first name in the list, follow that link and repeat the process a number of times and report the last name you find.\n",
    "\n",
    "We provide two files for this assignment. One is a sample file where we give you the name for your testing and the other is the actual data you need to process for the assignment\n",
    "\n",
    "* Sample problem: Start at http://python-data.dr-chuck.net/known_by_Fikret.html . \n",
    "    - Find the link at position 3 (the first name is 1). Follow that link. Repeat this process 4 times. The answer is the last name that you retrieve.\n",
    "    - Sequence of names: Fikret Montgomery Mhairade Butchi Anayah.    \n",
    "    - Last name in sequence: Anayah\n",
    "    \n",
    "    \n",
    "* Actual problem: Start at: http://python-data.dr-chuck.net/known_by_Ellise.html\n",
    "    - Find the link at position 18 (the first name is 1). Follow that link. Repeat this process 7 times. The answer is the last name that you retrieve.\n",
    "    - Hint: The first character of the name of the last page that you will load is: D"
   ]
  },
  {
   "cell_type": "markdown",
   "metadata": {},
   "source": [
    "### Sample problem"
   ]
  },
  {
   "cell_type": "code",
   "execution_count": 1,
   "metadata": {
    "collapsed": true
   },
   "outputs": [],
   "source": [
    "import urllib\n",
    "from bs4 import BeautifulSoup"
   ]
  },
  {
   "cell_type": "code",
   "execution_count": 2,
   "metadata": {
    "collapsed": false
   },
   "outputs": [],
   "source": [
    "url = 'http://python-data.dr-chuck.net/known_by_Fikret.html'"
   ]
  },
  {
   "cell_type": "code",
   "execution_count": 3,
   "metadata": {
    "collapsed": false
   },
   "outputs": [
    {
     "name": "stdout",
     "output_type": "stream",
     "text": [
      "Contents: Aniqa\n",
      "Contents: Ogheneruno\n",
      "Contents: Montgomery\n",
      "Contents: Owain\n",
      "Contents: Haniyah\n",
      "Contents: Anona\n",
      "Contents: Edyn\n",
      "Contents: Dallace\n",
      "Contents: Zoe\n",
      "Contents: Kiarash\n",
      "Contents: Tracy\n",
      "Contents: Carmyle\n",
      "Contents: Zahraa\n",
      "Contents: Alanys\n",
      "Contents: Airidas\n",
      "Contents: Melisa\n",
      "Contents: Vivian\n",
      "Contents: Margaret\n",
      "Contents: Hajra\n",
      "Contents: Ajooni\n",
      "Contents: Alexanne\n",
      "Contents: Sudais\n",
      "Contents: Seb\n",
      "Contents: Christin\n",
      "Contents: Jaimie\n",
      "Contents: Jennah\n",
      "Contents: Landon\n",
      "Contents: Mea\n",
      "Contents: Cacie\n",
      "Contents: Colton\n",
      "Contents: Mitchel\n",
      "Contents: Chintu\n",
      "Contents: Hyden\n",
      "Contents: Chrystal\n",
      "Contents: Lincon\n",
      "Contents: Jaden\n",
      "Contents: Roma\n",
      "Contents: Manolo\n",
      "Contents: Clio\n",
      "Contents: Teos\n",
      "Contents: Rihonn\n",
      "Contents: Griffin\n",
      "Contents: Conley\n",
      "Contents: Xiao\n",
      "Contents: Dhyia\n",
      "Contents: Manahil\n",
      "Contents: Diona\n",
      "Contents: Dharam\n",
      "Contents: Danielle\n",
      "Contents: Rori\n",
      "Contents: Lang\n",
      "Contents: Sabila\n",
      "Contents: Zoha\n",
      "Contents: Jemma\n",
      "Contents: Silvana\n",
      "Contents: Asal\n",
      "Contents: Dillon\n",
      "Contents: CJ\n",
      "Contents: Joanna\n",
      "Contents: Atal\n",
      "Contents: Callun\n",
      "Contents: Anubhav\n",
      "Contents: Coray\n",
      "Contents: Graeme\n",
      "Contents: Chrissie\n",
      "Contents: Ayub\n",
      "Contents: Heather\n",
      "Contents: Katie\n",
      "Contents: Inaara\n",
      "Contents: Siddhant\n",
      "Contents: Salymat\n",
      "Contents: Shahd\n",
      "Contents: Anaya\n",
      "Contents: Kevaugh\n",
      "Contents: Thumbiko\n",
      "Contents: Xida\n",
      "Contents: Alaska\n",
      "Contents: Shonagh\n",
      "Contents: Kaiya\n",
      "Contents: Khadija\n",
      "Contents: Kieron\n",
      "Contents: Filip\n",
      "Contents: Dorothy\n",
      "Contents: Kallan\n",
      "Contents: Mena\n",
      "Contents: Abbie\n",
      "Contents: Amyleigh\n",
      "Contents: Annalise\n",
      "Contents: Carrich\n",
      "Contents: Rachel\n",
      "Contents: Etinosa\n",
      "Contents: Amie\n",
      "Contents: Lisa\n",
      "Contents: Liv\n",
      "Contents: Baylie\n",
      "Contents: Jubin\n",
      "Contents: Kacie\n",
      "Contents: Falyn\n",
      "Contents: Conli\n",
      "Contents: Cohen\n"
     ]
    }
   ],
   "source": [
    "#Let's see which tag contains the info I need. \n",
    "#After run it one time, we realize that \"Contents\" retrieve the names\n",
    "html = urllib.urlopen(url).read()\n",
    "soup = BeautifulSoup(html, \"html.parser\")\n",
    "\n",
    "# Retrieve all of the anchor tags\n",
    "tags = soup('a')\n",
    "for tag in tags:\n",
    "    # Look at the parts of a tag\n",
    "    #print 'TAG:',tag\n",
    "    #print 'URL:',tag.get('href', None)\n",
    "    print 'Contents:',tag.contents[0]\n",
    "    #print 'Attrs:',tag.attrs"
   ]
  },
  {
   "cell_type": "code",
   "execution_count": 4,
   "metadata": {
    "collapsed": false
   },
   "outputs": [
    {
     "name": "stdout",
     "output_type": "stream",
     "text": [
      "http://python-data.dr-chuck.net/known_by_Fikret.html\n",
      "Count = 1, The name in the link at position 3 is Montgomery\n",
      "http://python-data.dr-chuck.net/known_by_Montgomery.html\n",
      "Count = 2, The name in the link at position 3 is Mhairade\n",
      "http://python-data.dr-chuck.net/known_by_Mhairade.html\n",
      "Count = 3, The name in the link at position 3 is Butchi\n",
      "http://python-data.dr-chuck.net/known_by_Butchi.html\n",
      "Count = 4, The name in the link at position 3 is Anayah\n"
     ]
    }
   ],
   "source": [
    "count = 1\n",
    "while count <= 4:\n",
    "    print url\n",
    "    html = urllib.urlopen(url).read()\n",
    "    soup = BeautifulSoup(html, \"html.parser\")\n",
    "    # Retrieve all of the anchor tags\n",
    "    tags = soup('a') \n",
    "    name = tags[2].contents[0]      #give us the name in position 3\n",
    "    url = tags[2].get('href', None) #give us the link in position 3\n",
    "    \n",
    "    print ('Count = {}, The name in the link at position 3 is {}'.format(count, name))\n",
    "    count += 1\n",
    "    \n"
   ]
  },
  {
   "cell_type": "markdown",
   "metadata": {},
   "source": [
    "### Assignment problem"
   ]
  },
  {
   "cell_type": "code",
   "execution_count": 5,
   "metadata": {
    "collapsed": false
   },
   "outputs": [],
   "source": [
    "url_a = 'http://python-data.dr-chuck.net/known_by_Ellise.html'"
   ]
  },
  {
   "cell_type": "code",
   "execution_count": 6,
   "metadata": {
    "collapsed": false
   },
   "outputs": [
    {
     "name": "stdout",
     "output_type": "stream",
     "text": [
      "http://python-data.dr-chuck.net/known_by_Ellise.html\n",
      "Count = 1, The name in the link at position 3 is Daud\n",
      "http://python-data.dr-chuck.net/known_by_Daud.html\n",
      "Count = 2, The name in the link at position 3 is Gareth\n",
      "http://python-data.dr-chuck.net/known_by_Gareth.html\n",
      "Count = 3, The name in the link at position 3 is Henri\n",
      "http://python-data.dr-chuck.net/known_by_Henri.html\n",
      "Count = 4, The name in the link at position 3 is Karli\n",
      "http://python-data.dr-chuck.net/known_by_Karli.html\n",
      "Count = 5, The name in the link at position 3 is Eeman\n",
      "http://python-data.dr-chuck.net/known_by_Eeman.html\n",
      "Count = 6, The name in the link at position 3 is Korrin\n",
      "http://python-data.dr-chuck.net/known_by_Korrin.html\n",
      "Count = 7, The name in the link at position 3 is Declan\n"
     ]
    }
   ],
   "source": [
    "count = 1\n",
    "while count <= 7:\n",
    "    print url_a\n",
    "    html_a = urllib.urlopen(url_a).read()\n",
    "    soup_a = BeautifulSoup(html_a, \"html.parser\")\n",
    "    # Retrieve all of the anchor tags\n",
    "    tags = soup_a('a') \n",
    "    name = tags[17].contents[0]\n",
    "    url_a = tags[17].get('href', None)\n",
    "    \n",
    "    print ('Count = {}, The name in the link at position 3 is {}'.format(count, name))\n",
    "    count += 1\n",
    "    \n"
   ]
  },
  {
   "cell_type": "code",
   "execution_count": null,
   "metadata": {
    "collapsed": true
   },
   "outputs": [],
   "source": []
  }
 ],
 "metadata": {
  "anaconda-cloud": {},
  "kernelspec": {
   "display_name": "Python [conda env:py2]",
   "language": "python",
   "name": "conda-env-py2-py"
  },
  "language_info": {
   "codemirror_mode": {
    "name": "ipython",
    "version": 2
   },
   "file_extension": ".py",
   "mimetype": "text/x-python",
   "name": "python",
   "nbconvert_exporter": "python",
   "pygments_lexer": "ipython2",
   "version": "2.7.12"
  }
 },
 "nbformat": 4,
 "nbformat_minor": 1
}
