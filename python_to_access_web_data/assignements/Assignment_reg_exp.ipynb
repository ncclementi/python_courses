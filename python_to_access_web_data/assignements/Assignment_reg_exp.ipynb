{
 "cells": [
  {
   "cell_type": "markdown",
   "metadata": {},
   "source": [
    "## Testing data"
   ]
  },
  {
   "cell_type": "code",
   "execution_count": 1,
   "metadata": {
    "collapsed": false
   },
   "outputs": [
    {
     "name": "stdout",
     "output_type": "stream",
     "text": [
      "There are 87 values with a sum of 445822\n"
     ]
    }
   ],
   "source": [
    "import re\n",
    "\n",
    "hand = open('data_assignment_1/regex_sum_42.txt')\n",
    "y = []\n",
    "\n",
    "for line in hand:\n",
    "    line = line.strip()\n",
    "    y += re.findall('([0-9]+)', line)\n",
    "    \n",
    "y = [int(i) for i in y]    \n",
    "\n",
    "sum_num = sum(y)\n",
    "print ('There are {} values with a sum of {}'.format(len(y), sum_num))\n"
   ]
  },
  {
   "cell_type": "markdown",
   "metadata": {},
   "source": [
    "## Assingment data "
   ]
  },
  {
   "cell_type": "code",
   "execution_count": 2,
   "metadata": {
    "collapsed": false
   },
   "outputs": [
    {
     "name": "stdout",
     "output_type": "stream",
     "text": [
      "There are 60 values with a sum of 266518\n"
     ]
    }
   ],
   "source": [
    "import re\n",
    "\n",
    "hand = open('data_assignment_1/regex_sum_317032.txt')\n",
    "y = list()\n",
    "\n",
    "for line in hand:\n",
    "    line = line.strip()\n",
    "    y += re.findall('([0-9]+)', line)\n",
    "    \n",
    "y = [ int(i) for i in y ]\n",
    "\n",
    "sum_num = sum(y)\n",
    "\n",
    "print ('There are {} values with a sum of {}'.format(len(y), sum_num))\n"
   ]
  },
  {
   "cell_type": "markdown",
   "metadata": {},
   "source": [
    "## Optional: Just for fun\n",
    "\n",
    "This is a way to write it in just two lines."
   ]
  },
  {
   "cell_type": "code",
   "execution_count": 3,
   "metadata": {
    "collapsed": false
   },
   "outputs": [
    {
     "name": "stdout",
     "output_type": "stream",
     "text": [
      "266518\n"
     ]
    }
   ],
   "source": [
    "import re\n",
    "print sum( [int(i) for i in re.findall('([0-9]+)',open('data_assignment_1/regex_sum_317032.txt').read())] )"
   ]
  },
  {
   "cell_type": "code",
   "execution_count": null,
   "metadata": {
    "collapsed": true
   },
   "outputs": [],
   "source": []
  }
 ],
 "metadata": {
  "anaconda-cloud": {},
  "kernelspec": {
   "display_name": "Python [conda env:py2]",
   "language": "python",
   "name": "conda-env-py2-py"
  },
  "language_info": {
   "codemirror_mode": {
    "name": "ipython",
    "version": 2
   },
   "file_extension": ".py",
   "mimetype": "text/x-python",
   "name": "python",
   "nbconvert_exporter": "python",
   "pygments_lexer": "ipython2",
   "version": "2.7.12"
  }
 },
 "nbformat": 4,
 "nbformat_minor": 1
}
