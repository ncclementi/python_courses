{
 "cells": [
  {
   "cell_type": "markdown",
   "metadata": {},
   "source": [
    "You are to retrieve the following document using the HTTP protocol in a way that you can examine the HTTP Response headers.\n",
    "\n",
    "    http://data.pr4e.org/intro-short.txt\n"
   ]
  },
  {
   "cell_type": "code",
   "execution_count": 1,
   "metadata": {
    "collapsed": false
   },
   "outputs": [
    {
     "name": "stdout",
     "output_type": "stream",
     "text": [
      "HTTP/1.1 200 OK\r\n",
      "Content-Type: text/plain\r\n",
      "Content-Length: 467\r\n",
      "Connection: close\r\n",
      "Date: Wed, 12 Oct 2016 16:58:52 GMT\r\n",
      "Server: Apache\r\n",
      "Last-Modified: Sat, 24 Sep 2016 20:36:08 GMT\r\n",
      "ETag: \"1d3-53d46d841582a\"\r\n",
      "Accept-Ranges: bytes\r\n",
      "\r\n",
      "Why should you learn to write programs?\n",
      "\n",
      "Writing programs (or programming) is a very creative \n",
      "and rewarding activity.  You can write programs for \n",
      "many reasons, ranging from making your living to solving\n",
      "a difficult data analysis problem to having fun to helping\n",
      "someone else so\n",
      "lve a problem.  This book assumes that \n",
      "everyone needs to know how to program, and that once \n",
      "you know how to program you will figure out what you want \n",
      "to do with your newfound skills.  \n",
      "\n"
     ]
    }
   ],
   "source": [
    "import socket \n",
    "\n",
    "#open a socket\n",
    "mysock = socket.socket(socket.AF_INET, socket.SOCK_STREAM)\n",
    "#connect the socket\n",
    "mysock.connect(('www.py4inf.com', 80))\n",
    "# Send a request for the data I want\n",
    "mysock.send('GET http://data.pr4e.org/intro-short.txt HTTP/1.0\\n\\n')\n",
    "\n",
    "#Receive the data and do something with it. \n",
    "while True:\n",
    "    data = mysock.recv(512) # 512 is the max amount of characters at a time \n",
    "    if (len(data) < 1):\n",
    "        break\n",
    "    print(data)\n",
    "\n",
    "mysock.close()"
   ]
  },
  {
   "cell_type": "code",
   "execution_count": null,
   "metadata": {
    "collapsed": true
   },
   "outputs": [],
   "source": []
  }
 ],
 "metadata": {
  "anaconda-cloud": {},
  "kernelspec": {
   "display_name": "Python [conda env:py2]",
   "language": "python",
   "name": "conda-env-py2-py"
  },
  "language_info": {
   "codemirror_mode": {
    "name": "ipython",
    "version": 2
   },
   "file_extension": ".py",
   "mimetype": "text/x-python",
   "name": "python",
   "nbconvert_exporter": "python",
   "pygments_lexer": "ipython2",
   "version": "2.7.12"
  }
 },
 "nbformat": 4,
 "nbformat_minor": 1
}
