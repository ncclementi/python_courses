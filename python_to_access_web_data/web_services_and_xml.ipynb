{
 "cells": [
  {
   "cell_type": "markdown",
   "metadata": {},
   "source": [
    "# Web services and XML\n",
    "\n",
    "## Data on the web\n",
    "\n",
    "* With the HTTP request/response well understood and well supported, there was a natural move toward exchanging data between programs using these protocols.\n",
    "\n",
    "* We needed to come up with an agreed way to represent data going between applications and across networks\n",
    "\n",
    "* There are two commonly used formats: XML and JSON\n",
    "\n",
    "## Sending data across the \"Net\"\n",
    "\n",
    "### The wire protocol\n",
    "\n",
    "A format that allows us to go for example from python to java when navigating across web applications.\n"
   ]
  },
  {
   "cell_type": "raw",
   "metadata": {},
   "source": [
    "  Python  ---Serialize--->   wire format ---De-Serialize---> Java \n",
    "Dictionary                 (wire protocol)                    HashMap   "
   ]
  },
  {
   "cell_type": "markdown",
   "metadata": {},
   "source": [
    "**Serialize** : act of taking internal structure and creating the wire format.\n",
    "\n",
    "**De-Serialize**: act of taking the wire format and creating the internal structure in different languages.\n",
    "\n",
    "This process allows us to create sets of applications that work on different languages. We will show two different wire formats, XML and JSON. "
   ]
  },
  {
   "cell_type": "markdown",
   "metadata": {},
   "source": [
    "## XML (eXtensible Markup Language)\n",
    "\n",
    "It's main purpose is to help information systems **share structured data**. It has more advantages when representing things that are more like documents.\n",
    "\n",
    "XML is basicallya textual representation of a tree structure of nodes. It uses less thans and greater thans."
   ]
  },
  {
   "cell_type": "markdown",
   "metadata": {},
   "source": [
    "### XML \"Elements\" (or Nodes)"
   ]
  },
  {
   "cell_type": "markdown",
   "metadata": {},
   "source": [
    "**Simple Element**: something with a simple tag, like:"
   ]
  },
  {
   "cell_type": "raw",
   "metadata": {},
   "source": [
    "<name>Chuck</name> "
   ]
  },
  {
   "cell_type": "markdown",
   "metadata": {},
   "source": [
    "**Complex Element**: something formed by a tag that has within it simple elements, like:"
   ]
  },
  {
   "cell_type": "raw",
   "metadata": {},
   "source": [
    "<person>\n",
    "    <name>Noah</name>\n",
    "    <phone>622 7421</phone>\n",
    "</person>"
   ]
  },
  {
   "cell_type": "markdown",
   "metadata": {},
   "source": [
    "### XML Basics"
   ]
  },
  {
   "cell_type": "raw",
   "metadata": {},
   "source": [
    "<person>\n",
    "    <name>Chuck</name>\n",
    "    <phone type=\"intl\">\n",
    "       +1 734 303 4456\n",
    "    </phone>\n",
    "    <email hide=\"yes\"/>\n",
    "</person>"
   ]
  },
  {
   "cell_type": "markdown",
   "metadata": {},
   "source": [
    "<span style=\"color:green\"> Start tag </span>: <span style=\"color:green\"> < </span> <span style=\"color:green\"> person> </span> , <span style=\"color:green\"> < </span> <span style=\"color:green\"> name> </span> .\n",
    "\n",
    "\n",
    "<span style=\"color:blue\"> End tag </span> : <span style=\"color:blue\"> < </span> <span style=\"color:blue\"> /phone> </span> , <span style=\"color:blue\"> < </span> <span style=\"color:blue\"> /name> </span> , <span style=\"color:blue\"> < </span> <span style=\"color:blue\"> /person> </span>\n",
    "\n",
    "\n",
    "<span style=\"color:red\"> Attribute </span>: <span style=\"color:green\"> < </span> <span style=\"color:green\"> phone </span> <span style=\"color:red\"> type=\"intl\" </span> <span style=\"color:green\"> > </span> \n",
    "\n",
    "Text content: Chuck , +1 734 303 4456\n",
    "\n",
    "<span style=\"color:magenta\"> Self closing tag </span>: <span style=\"color:magenta\"> < </span> <span style=\"color:magenta\"> email </span> <span style=\"color:red\"> hide=\"yes\" </span> <span style=\"color:magenta\"> /> </span> \n"
   ]
  },
  {
   "cell_type": "markdown",
   "metadata": {},
   "source": [
    "**Note**:\n",
    "* Line ends do not matter.\n",
    "* White space is generally discarded on text elements.\n",
    "* We indent only to be readable.\n",
    "* When the XML is bad and not formatted, we can use tools like pretty printer that will indented for you and make it readable."
   ]
  },
  {
   "cell_type": "markdown",
   "metadata": {},
   "source": [
    "### XML Terminology\n",
    "\n",
    "* <span style=\"color:green\"> Tags </span>: indicate the beginning and ending of elements.\n",
    "\n",
    "* <span style=\"color:magenta\"> Attributes </span>: Keyword/value pairs on the opening tag of XML.\n",
    "\n",
    "* <span style=\"color:red\"> Serialize/De-Serialize </span>: Convert data in one program into a common format that can be stored and/or transmitted between systems in a programming language-independent manner.  \n",
    "\n",
    "\n"
   ]
  },
  {
   "cell_type": "markdown",
   "metadata": {},
   "source": [
    "### XML Schema\n",
    "\n",
    "* Description of the **legal format** of an **XML** document. It is expressed in terms of constraints on the structure and the content of documents. \n",
    "\n",
    "* Often used to specify a \"**contract**\" between systems - \"My system will only accept XML that conforms to this particular schema\"\n",
    "\n",
    "* If a particular piece of XML meets the specifications of the **schema** - it is said to \"**validate**\"\n"
   ]
  },
  {
   "cell_type": "raw",
   "metadata": {
    "collapsed": true
   },
   "source": [
    "   XML     --------------------\n",
    " Document                      |\n",
    "\n",
    "                         XML Validation \n",
    "                               \n",
    "XML Schema                     |\n",
    " Contract  -------------------- "
   ]
  },
  {
   "cell_type": "markdown",
   "metadata": {
    "collapsed": true
   },
   "source": [
    "### Many XML schema languages\n",
    "\n",
    "* Document Type Definition (DTD)\n",
    "    - https://en.wikipedia.org/wiki/Document_type_definition\n",
    "* Standard Generalized Markup Language (ISO 8879:1986 SGML)\n",
    "    - https://en.wikipedia.org/wiki/Standard_Generalized_Markup_Language\n",
    "* XML Schema from W3C - (XSD) (we will concentrate in this one)\n",
    "    - https://en.wikipedia.org/wiki/XML_Schema_(W3C)\n",
    "\n"
   ]
  },
  {
   "cell_type": "markdown",
   "metadata": {
    "collapsed": true
   },
   "source": [
    "\n",
    "### XSD XML schema (W3C spec)\n",
    "\n",
    "* We will focuse on the World Wide Web consortium version, often called \"W3C Schema\".\n",
    "* It's morre commonly called XSD because the file names end in `.xsd`\n"
   ]
  },
  {
   "cell_type": "markdown",
   "metadata": {},
   "source": [
    "### XSD Structure\n",
    "\n",
    "Check this [link](http://www.w3schools.com/xml/schema_example.asp) to find some examples of XSD structure. \n"
   ]
  },
  {
   "cell_type": "markdown",
   "metadata": {
    "collapsed": true
   },
   "source": [
    "\n",
    "### XSD Data Types:\n",
    "\n",
    "**XSD String Data Types**\n",
    "\n",
    "http://www.w3schools.com/xml/schema_dtypes_string.asp\n",
    "\n",
    "**XSD Date and Time Data Types**\n",
    "\n",
    "http://www.w3schools.com/xml/schema_dtypes_date.asp\n",
    "\n",
    "**XSD Numeric Data Types**\n",
    "\n",
    "http://www.w3schools.com/xml/schema_dtypes_numeric.asp\n",
    "\n",
    "**XSD Miscellaneous Data Types**\n",
    "\n",
    "http://www.w3schools.com/xml/schema_dtypes_misc.asp"
   ]
  },
  {
   "cell_type": "code",
   "execution_count": 1,
   "metadata": {
    "collapsed": false
   },
   "outputs": [
    {
     "data": {
      "text/html": [
       "<link href='http://fonts.googleapis.com/css?family=Fenix' rel='stylesheet' type='text/css'>\n",
       "<link href='http://fonts.googleapis.com/css?family=Alegreya+Sans:100,300,400,500,700,800,900,100italic,300italic,400italic,500italic,700italic,800italic,900italic' rel='stylesheet' type='text/css'>\n",
       "<link href='http://fonts.googleapis.com/css?family=Source+Code+Pro:300,400' rel='stylesheet' type='text/css'>\n",
       "<style>\n",
       "\n",
       "@font-face {\n",
       "    font-family: \"Computer Modern\";\n",
       "    src: url('http://mirrors.ctan.org/fonts/cm-unicode/fonts/otf/cmunss.otf');\n",
       "}\n",
       "\n",
       "\n",
       "#notebook_panel { /* main background */\n",
       "    background: rgb(245,245,245);\n",
       "}\n",
       "\n",
       "div.cell { /* set cell width */\n",
       "    width: 750px;\n",
       "}\n",
       "\n",
       "div #notebook { /* centre the content */\n",
       "    background: #fff; /* white background for content */\n",
       "    width: 1000px;\n",
       "    margin: auto;\n",
       "    padding-left: 0em;\n",
       "}\n",
       "\n",
       "#notebook li { /* More space between bullet points */\n",
       "margin-top:0.8em;\n",
       "}\n",
       "\n",
       "/* draw border around running cells */\n",
       "div.cell.border-box-sizing.code_cell.running { \n",
       "    border: 1px solid #111;\n",
       "}\n",
       "\n",
       "/* Put a solid color box around each cell and its output, visually linking them*/\n",
       "div.cell.code_cell {\n",
       "    background-color: rgb(256,256,256); \n",
       "    border-radius: 0px; \n",
       "    padding: 0.5em;\n",
       "    margin-left:1em;\n",
       "    margin-top: 1em;\n",
       "}\n",
       "\n",
       "\n",
       "div.text_cell_render{\n",
       "    font-family: 'Alegreya Sans' sans-serif;\n",
       "    line-height: 140%;\n",
       "    font-size: 125%;\n",
       "    font-weight: 400;\n",
       "    width:600px;\n",
       "    margin-left:auto;\n",
       "    margin-right:auto;\n",
       "}\n",
       "\n",
       "/* Formatting for header cells */\n",
       ".text_cell_render h1 {\n",
       "    font-family: 'Fenix', sans-serif;\n",
       "    font-style:regular;\n",
       "    font-weight: 200;    \n",
       "    font-size: 40pt;\n",
       "    line-height: 100%;\n",
       "    color: #138d75;\n",
       "    margin-bottom: 0.5em;\n",
       "    margin-top: 0.5em;\n",
       "    display: block;\n",
       "}\t\n",
       ".text_cell_render h2 {\n",
       "    font-family: 'Fenix', serif;\n",
       "    font-size: 20pt;\n",
       "    line-height: 100%;\n",
       "    margin-bottom: 0.1em;\n",
       "    color: #1f618d;\n",
       "    margin-top: 0.3em;\n",
       "    display: block;\n",
       "}\t\n",
       "\n",
       ".text_cell_render h3 {\n",
       "    font-family: 'Fenix', serif;\n",
       "    margin-top:12px;\n",
       "\tfont-size: 16pt;\n",
       "    margin-bottom: 3px;\n",
       "    font-style: regular;\n",
       "}\n",
       "\n",
       ".text_cell_render h4 {    /*Use this for captions*/\n",
       "    font-family: 'Fenix', serif;\n",
       "    font-size: 2pt;\n",
       "    text-align: center;\n",
       "    margin-top: 0em;\n",
       "    margin-bottom: 2em;\n",
       "    font-style: regular;\n",
       "}\n",
       "\n",
       ".text_cell_render h5 {  /*Use this for small titles*/\n",
       "    font-family: 'Alegreya Sans', sans-serif;\n",
       "    font-weight: 300;\n",
       "    font-size: 16pt;\n",
       "    color: #CD2305;\n",
       "    font-style: italic;\n",
       "    margin-bottom: .5em;\n",
       "    margin-top: 0.5em;\n",
       "    display: block;\n",
       "}\n",
       "\n",
       ".text_cell_render h6 { /*use this for copyright note*/\n",
       "    font-family: 'Source Code Pro', sans-serif;\n",
       "    font-weight: 300;\n",
       "    font-size: 9pt;\n",
       "    line-height: 100%;\n",
       "    color: grey;\n",
       "    margin-bottom: 1px;\n",
       "    margin-top: 1px;\n",
       "}\n",
       "\n",
       "    .CodeMirror{\n",
       "            font-family: \"Source Code Pro\";\n",
       "\t\t\tfont-size: 90%;\n",
       "    }\n",
       "/*    .prompt{\n",
       "        display: None;\n",
       "    }*/\n",
       "\t\n",
       "    \n",
       "    .warning{\n",
       "        color: rgb( 240, 20, 20 )\n",
       "        }  \n",
       "</style>\n",
       "<script>\n",
       "    MathJax.Hub.Config({\n",
       "                        TeX: {\n",
       "                           extensions: [\"AMSmath.js\"], \n",
       "                           equationNumbers: { autoNumber: \"AMS\", useLabelIds: true}\n",
       "                           },\n",
       "                tex2jax: {\n",
       "                    inlineMath: [ ['$','$'], [\"\\\\(\",\"\\\\)\"] ],\n",
       "                    displayMath: [ ['$$','$$'], [\"\\\\[\",\"\\\\]\"] ]\n",
       "                },\n",
       "                displayAlign: 'center', // Change this to 'center' to center equations.\n",
       "                \"HTML-CSS\": {\n",
       "                    styles: {'.MathJax_Display': {\"margin\": 4}}\n",
       "                }\n",
       "        });\n",
       "</script>\n"
      ],
      "text/plain": [
       "<IPython.core.display.HTML object>"
      ]
     },
     "execution_count": 1,
     "metadata": {},
     "output_type": "execute_result"
    }
   ],
   "source": [
    "from IPython.core.display import HTML\n",
    "def css_styling():\n",
    "    styles = open(\"styles/custom.css\", \"r\").read()\n",
    "    return HTML(styles)\n",
    "css_styling()"
   ]
  }
 ],
 "metadata": {
  "anaconda-cloud": {},
  "kernelspec": {
   "display_name": "Python [conda env:py2]",
   "language": "python",
   "name": "conda-env-py2-py"
  },
  "language_info": {
   "codemirror_mode": {
    "name": "ipython",
    "version": 2
   },
   "file_extension": ".py",
   "mimetype": "text/x-python",
   "name": "python",
   "nbconvert_exporter": "python",
   "pygments_lexer": "ipython2",
   "version": "2.7.12"
  }
 },
 "nbformat": 4,
 "nbformat_minor": 1
}
