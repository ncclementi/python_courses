{
 "cells": [
  {
   "cell_type": "markdown",
   "metadata": {},
   "source": [
    "\n",
    "# Notes on Unicode (P2--> P3)\n",
    "\n",
    "Unicode: Universal code for characters. (Lot of characters, more than the 128 ASCII characters)\n",
    "\n",
    "UTF-8: (represents characters with 1-4 bytes) best practice for encoding data moving between systems, or for moving network data between two systems.\n",
    "\n",
    "Python 2 has unicode and strings, but Python 3 everything is unicode and the type shows as \"string\". \n",
    "\n",
    "In Python 2, byte string (x=b'abc') and regular string will return type \"string\", while unicode string will return type \"unicode.\"\n",
    "\n",
    "In Python 3, byte string (x=b'abc')  will return type 'bytes' while regular string will and unicode string will return type \"string\".\n",
    "\n",
    "The `decode` (goes from bytes to unicode) function help us to see if it's UTF-8, ASCII or whatever and converts it to unicode.\n",
    "\n",
    "`encode` takes a string and transform it into bytes.\n",
    "\n",
    "Then before we send (receive) we need to (encode) decode the data."
   ]
  },
  {
   "cell_type": "markdown",
   "metadata": {},
   "source": []
  }
 ],
 "metadata": {
  "kernelspec": {
   "display_name": "Python 3",
   "language": "python",
   "name": "python3"
  },
  "language_info": {
   "codemirror_mode": {
    "name": "ipython",
    "version": 3
   },
   "file_extension": ".py",
   "mimetype": "text/x-python",
   "name": "python",
   "nbconvert_exporter": "python",
   "pygments_lexer": "ipython3",
   "version": "3.5.3"
  }
 },
 "nbformat": 4,
 "nbformat_minor": 2
}
