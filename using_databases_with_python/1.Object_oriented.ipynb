{
 "cells": [
  {
   "cell_type": "markdown",
   "metadata": {},
   "source": [
    "\n",
    "# Notes on Unicode (P2--> P3)\n",
    "\n",
    "Unicode: Universal code for characters. (Lot of characters, more than the 128 ASCII characters)\n",
    "\n",
    "UTF-8: (represents characters with 1-4 bytes) best practice for encoding data moving between systems, or for moving network data between two systems.\n",
    "\n",
    "Python 2 has unicode and strings, but Python 3 everything is unicode and the type shows as \"string\". \n",
    "\n",
    "In Python 2, byte string (x=b'abc') and regular string will return type \"string\", while unicode string will return type \"unicode.\"\n",
    "\n",
    "In Python 3, byte string (x=b'abc')  will return type 'bytes' while regular string will and unicode string will return type \"string\".\n",
    "\n",
    "The `decode` (goes from bytes to unicode) function help us to see if it's UTF-8, ASCII or whatever and converts it to unicode.\n",
    "\n",
    "`encode` takes a string and transform it into bytes.\n",
    "\n",
    "Then before we send (receive) we need to (encode) decode the data."
   ]
  },
  {
   "cell_type": "markdown",
   "metadata": {},
   "source": [
    "# Object oriented definitions and terminology\n",
    "\n",
    "## Object\n",
    "\n",
    "**An object is a piece of self-contained code and data.**\n",
    "\n",
    "*The OO approach is to break the problem we have into smaller parts that are easier to understand*\n",
    "\n",
    "Objects have boundaries that allow us to ignore details we don't need.\n",
    "\n",
    "Examples of objects: String objects, integer objects, dictionary objects, list objects..."
   ]
  },
  {
   "cell_type": "markdown",
   "metadata": {},
   "source": [
    "## Definitions (Notes from class)\n",
    "\n",
    "* **Class:** a template. Is a blueprint for making things. \n",
    "\n",
    "Defines the abstract characteristics of a thing (object), including the thing's characteristics (its **attributes**, fields or properties) and the thing's behaviours (the **methods**, the things it can do, operations or features). \n",
    "\n",
    "We can say that a class is a blueprint or a factory that describes the nature of something. Let's say, the **class** Dog would consists of traits shared by all dogs, such as breeed and fur color (characteristics, **attributes**) , and the ability to bark and sit (behaviors-**methods**)\n",
    "\n",
    "The concept of a dog is a class, but when you see or grab a dog that's the object.\n",
    "\n",
    "* **Object or Instance** A particular instance of a class.\n",
    "\n",
    "We can have an **instance** of a class or a particular obejct. The **instance** is the actual object created at runtime. For example, the Lassie object is an **instance** of the Dog class. The set of values of the attributes of a particular object is called *state*. The **object** consists of state and the behavior that's defined in the object's class. \n",
    "\n",
    "The object/instance is the real thing, not the shape (class).\n",
    "\n",
    "* **Method or message:** A defined capability of a class.\n",
    "\n",
    "**Methods** are object's abilities. In language, methods are verbs. For example Lassie, bieng a Dog, has the ability to bark. Then, bark() is one of Lassie's methods (there can be more, like sit() or walk()). Within the program, using a **method** usually affects only one particular object; all Dogs can bark, but you need only one particular dog to do the barking.\n",
    "\n",
    "Methods are like functions that live in the object.\n",
    "\n",
    "\n",
    "* **Field or attribute** A bit of data in a class.\n",
    "\n",
    "An example of **attribute** is a variable defined inside the class"
   ]
  },
  {
   "cell_type": "markdown",
   "metadata": {
    "collapsed": true
   },
   "source": [
    "# Class example:\n",
    "\n",
    "*Note:* `self` is typically used for a Python method within a class to refer to the instance in which the method is being called"
   ]
  },
  {
   "cell_type": "code",
   "execution_count": 1,
   "metadata": {
    "collapsed": true
   },
   "outputs": [],
   "source": [
    "class PartyAnimal:\n",
    "    \n",
    "    x = 0        # Each PartAnimal object has a bit of data. x in this case is an attribute\n",
    "    \n",
    "    def party(self):        # Each PartyAnimal has a bit of code, in this case party() is a method\n",
    "        self.x = self.x + 1\n",
    "        print(\"So far \", self.x)        "
   ]
  },
  {
   "cell_type": "code",
   "execution_count": 2,
   "metadata": {
    "collapsed": true
   },
   "outputs": [],
   "source": [
    "an = PartyAnimal() # Construct a PartyAnimal object and store in `an` variable"
   ]
  },
  {
   "cell_type": "code",
   "execution_count": 3,
   "metadata": {},
   "outputs": [
    {
     "name": "stdout",
     "output_type": "stream",
     "text": [
      "So far  1\n",
      "So far  2\n",
      "So far  3\n"
     ]
    }
   ],
   "source": [
    "# Tell the `an` object to run themethod `party()`  code within it.\n",
    "an.party()         # This is like doing ---> PartyAnimal.party(an) \n",
    "an.party()         # now party(an) is like an.x = an.x + 1 and then printing an\n",
    "an.party()\n"
   ]
  },
  {
   "cell_type": "markdown",
   "metadata": {
    "collapsed": true
   },
   "source": [
    "<img src=\"images/objects_PartyAnimal.png\" style=\"width: 600px;\"/> \n",
    "\n",
    "*Image credit*: This is a screenshot from video lecture \"Our first class and object\" of the course Using databases with python taught by Dr. Charles severance. "
   ]
  },
  {
   "cell_type": "markdown",
   "metadata": {
    "collapsed": true
   },
   "source": [
    "**We can use `dir()` to find the \"capabilities\" of our new class.**"
   ]
  },
  {
   "cell_type": "code",
   "execution_count": 4,
   "metadata": {},
   "outputs": [
    {
     "name": "stdout",
     "output_type": "stream",
     "text": [
      "Type  <class '__main__.PartyAnimal'>\n",
      "Dir  ['__class__', '__delattr__', '__dict__', '__dir__', '__doc__', '__eq__', '__format__', '__ge__', '__getattribute__', '__gt__', '__hash__', '__init__', '__le__', '__lt__', '__module__', '__ne__', '__new__', '__reduce__', '__reduce_ex__', '__repr__', '__setattr__', '__sizeof__', '__str__', '__subclasshook__', '__weakref__', 'party', 'x']\n"
     ]
    }
   ],
   "source": [
    "#ignore the __ elements, those are use by python. \n",
    "print('Type ', type(an))\n",
    "print('Dir ', dir(an))"
   ]
  },
  {
   "cell_type": "markdown",
   "metadata": {
    "collapsed": true
   },
   "source": [
    "## Object Life cycle\n",
    "\n",
    "* Objects are created, used and discarded.\n",
    "* We have special methods that get called\n",
    "    * At the moment of creation (constructor)\n",
    "    * At the moment of destruction (destructor)\n",
    "* Constructors are use very often.\n",
    "* Destructors are rarely used.\n",
    "\n",
    "\n",
    "### Constructor\n",
    "\n",
    "The constructor is a special block of statements called when an object is created.\n",
    "\n",
    "The main purpose of the constructor is to set up some instance variables to have the proper initial values when the object is created. It is like initialized the object and all the things inside that are needed to work. \n",
    "It is typically used to set up variables. \n",
    "\n",
    "\n",
    "\n",
    "**Note**:\n",
    "\n",
    "The constructor and destructor are specially named methods `__init__()` and `__del__()`. Let's modify our class PartyAnimal to include them:"
   ]
  },
  {
   "cell_type": "code",
   "execution_count": 5,
   "metadata": {
    "collapsed": true
   },
   "outputs": [],
   "source": [
    "class PartyAnimal:\n",
    "    \n",
    "    x = 0\n",
    "    \n",
    "    def __init__(self):\n",
    "        print('I am constructed')     #For now we just have a print but this can have other stuffs here.\n",
    "    \n",
    "    def party(self):        \n",
    "        self.x = self.x + 1\n",
    "        print(\"So far \", self.x)\n",
    "        \n",
    "    def __del__(self):\n",
    "        print('I am destructed ', self.x)"
   ]
  },
  {
   "cell_type": "code",
   "execution_count": 6,
   "metadata": {},
   "outputs": [
    {
     "name": "stdout",
     "output_type": "stream",
     "text": [
      "I am constructed\n",
      "So far  1\n",
      "So far  2\n",
      "I am destructed  2\n",
      "an contains 42\n"
     ]
    }
   ],
   "source": [
    "an = PartyAnimal()\n",
    "an.party()\n",
    "an.party()\n",
    "an = 42   # here we are destructing. read notes below *\n",
    "print('an contains', an)"
   ]
  },
  {
   "cell_type": "markdown",
   "metadata": {},
   "source": [
    "* The machine says, ah before we register 42 to `an`, and throw the object away, you've got to register the destructor, call the destructor."
   ]
  },
  {
   "cell_type": "markdown",
   "metadata": {},
   "source": [
    "### What happen when we have **many instances**\n",
    "\n",
    "We can have many instances of the same class.\n",
    "\n",
    "* We can create **lots of objects** - the class is the tmeplate for the object.\n",
    "* We can store each different object in its own variable.\n",
    "* We call this having multiple **instances** of the same class.\n",
    "* Each **instance** has its own copy of the *instance variables*\n",
    "\n",
    "\n",
    "Let's rewrite our class to have two independant instances. "
   ]
  },
  {
   "cell_type": "code",
   "execution_count": 7,
   "metadata": {
    "collapsed": true
   },
   "outputs": [],
   "source": [
    "class PartyAnimal:\n",
    "    \n",
    "    x = 0\n",
    "    name = ''     #new variable\n",
    "    \n",
    "    def __init__(self, z):                # z is a constructor parameter and self is the instance itself\n",
    "        self.name = z\n",
    "        print(self.name ,'constructed') \n",
    "    \n",
    "    def party(self):        \n",
    "        self.x = self.x + 1\n",
    "        print(self.name , 'party count', self.x)\n",
    "    \n",
    "    #We don't have a destructor in this case. \n",
    "        "
   ]
  },
  {
   "cell_type": "code",
   "execution_count": 8,
   "metadata": {},
   "outputs": [
    {
     "name": "stdout",
     "output_type": "stream",
     "text": [
      "Sally constructed\n",
      "Sally party count 1\n"
     ]
    }
   ],
   "source": [
    "s = PartyAnimal('Sally')\n",
    "s.party()"
   ]
  },
  {
   "cell_type": "code",
   "execution_count": 9,
   "metadata": {},
   "outputs": [
    {
     "name": "stdout",
     "output_type": "stream",
     "text": [
      "Jim constructed\n",
      "Jim party count 1\n",
      "Sally party count 2\n"
     ]
    }
   ],
   "source": [
    "j = PartyAnimal('Jim')\n",
    "j.party()\n",
    "s.party()"
   ]
  },
  {
   "cell_type": "markdown",
   "metadata": {},
   "source": [
    "<img src=\"images/objects_PartyAnimal_constructor_two_instances.png\" style=\"width: 600px;\"/> \n",
    "\n",
    "*Image credit*: This is a screenshot from video lecture \"Object Life cycle\" of the course Using databases with python taught by Dr. Charles severance. "
   ]
  },
  {
   "cell_type": "markdown",
   "metadata": {},
   "source": [
    "## Object inheritance\n",
    "\n",
    "**Inheritance** is the ability to extend a class to make a new class. \n",
    "\n",
    "Wen we create a new class we can reuse and existing one and **inherit** all the capabilities of the existing class and then add our own little bit to make our new class.\n",
    "\n",
    "Note that the new class (child) has all the capabilities of the old class (parent)- and then some more. \n",
    "\n",
    "For example, let's create a new class that inherits the capabilities of `PartyAnimal`."
   ]
  },
  {
   "cell_type": "code",
   "execution_count": 10,
   "metadata": {
    "collapsed": true
   },
   "outputs": [],
   "source": [
    "class FootballFan(PartyAnimal):\n",
    "    #Is it like if we had all the content of PartyAnimal right here.\n",
    "    points = 0\n",
    "    \n",
    "    def touchdown(self):\n",
    "        self.points = self.points + 7\n",
    "        self.party()  #we can call methods inside methods\n",
    "        \n",
    "        print(self.name, 'points', self.points)\n",
    "        "
   ]
  },
  {
   "cell_type": "markdown",
   "metadata": {},
   "source": [
    "**FootballFan is a class which extends PartyAnimal**"
   ]
  },
  {
   "cell_type": "code",
   "execution_count": 11,
   "metadata": {},
   "outputs": [
    {
     "name": "stdout",
     "output_type": "stream",
     "text": [
      "Sally constructed\n",
      "Sally party count 1\n"
     ]
    }
   ],
   "source": [
    "s = PartyAnimal('Sally')\n",
    "s.party()"
   ]
  },
  {
   "cell_type": "code",
   "execution_count": 12,
   "metadata": {},
   "outputs": [
    {
     "name": "stdout",
     "output_type": "stream",
     "text": [
      "Jim constructed\n",
      "Jim party count 1\n",
      "Jim party count 2\n",
      "Jim points 7\n"
     ]
    }
   ],
   "source": [
    "j = FootballFan('Jim')\n",
    "j.party()\n",
    "j.touchdown()"
   ]
  },
  {
   "cell_type": "markdown",
   "metadata": {},
   "source": [
    "<img src=\"images/objects_inheritance.png\" style=\"width: 600px;\"/> \n",
    "\n",
    "*Image credit*: This is a screenshot from video lecture \"Object Inheritance\" of the course Using databases with python taught by Dr. Charles severance. "
   ]
  }
 ],
 "metadata": {
  "kernelspec": {
   "display_name": "Python 3",
   "language": "python",
   "name": "python3"
  },
  "language_info": {
   "codemirror_mode": {
    "name": "ipython",
    "version": 3
   },
   "file_extension": ".py",
   "mimetype": "text/x-python",
   "name": "python",
   "nbconvert_exporter": "python",
   "pygments_lexer": "ipython3",
   "version": "3.5.3"
  }
 },
 "nbformat": 4,
 "nbformat_minor": 2
}
