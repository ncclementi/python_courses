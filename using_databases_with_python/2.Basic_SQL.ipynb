{
 "cells": [
  {
   "cell_type": "markdown",
   "metadata": {},
   "source": [
    "# Basic Structured Query Language\n",
    "\n",
    "## Relational data bases\n",
    "\n",
    "Relational databases model data by storing rows and columns in tables. Relational databases powers relies in being able to efficiently retrieve data from those tables and in particular where tehre are multiple tables and the relationships between those tables involved in the query.\n",
    "\n",
    "Note: A query is a request for data or information from a database table or combination of tables\n",
    "\n",
    "\n",
    "### Terminology\n",
    "\n",
    "* **Database:** contains many tables.\n",
    "* **Relation (or table):** contains tuples and attributes.\n",
    "* **Tuple (or row):** a set of fields that generally represents an \"object\".\n",
    "* **Attribute (also column or field):** one of possibly many elements of data corresponding to the object represented by the row.\n",
    "\n",
    "<img src=\"images/relation_explanation.png\" style=\"width: 600px;\"/> \n"
   ]
  },
  {
   "cell_type": "markdown",
   "metadata": {},
   "source": [
    "## Structured Query Language (SQL)\n",
    "\n",
    "**SQL** is the language we use to issue commands to the database. \n",
    "\n",
    "Our code will talk (using SQL) to the DB application and the DB application will talk to the complexity of the database and do the magic.\n",
    "\n",
    "SQL is what let us talk with the API (application program interface). Since SQL is a standard, your APP will be able to talk accross DB.\n",
    "\n",
    "### SQL has 4 basic functions (CRUD)\n",
    "\n",
    "* **C**reate a table\n",
    "* **R**etrieve some data\n",
    "* **U**pdate data\n",
    "* **D**elete data "
   ]
  },
  {
   "cell_type": "code",
   "execution_count": null,
   "metadata": {
    "collapsed": true
   },
   "outputs": [],
   "source": []
  }
 ],
 "metadata": {
  "kernelspec": {
   "display_name": "Python 3",
   "language": "python",
   "name": "python3"
  },
  "language_info": {
   "codemirror_mode": {
    "name": "ipython",
    "version": 3
   },
   "file_extension": ".py",
   "mimetype": "text/x-python",
   "name": "python",
   "nbconvert_exporter": "python",
   "pygments_lexer": "ipython3",
   "version": "3.5.3"
  }
 },
 "nbformat": 4,
 "nbformat_minor": 2
}
