{
 "cells": [
  {
   "cell_type": "markdown",
   "metadata": {},
   "source": [
    "# Basic Structured Query Language\n",
    "\n",
    "## Relational data bases\n",
    "\n",
    "Relational databases model data by storing rows and columns in tables. Relational databases powers relies in being able to efficiently retrieve data from those tables and in particular where tehre are multiple tables and the relationships between those tables involved in the query.\n",
    "\n",
    "Note: A query is a request for data or information from a database table or combination of tables\n",
    "\n",
    "\n",
    "### Terminology\n",
    "\n",
    "* **Database:** contains many tables.\n",
    "* **Relation (or table):** contains tuples and attributes.\n",
    "* **Tuple (or row):** a set of fields that generally represents an \"object\".\n",
    "* **Attribute (also column or field):** one of possibly many elements of data corresponding to the object represented by the row.\n",
    "\n",
    "<img src=\"images/relation_explanation.png\" style=\"width: 600px;\"/> \n"
   ]
  },
  {
   "cell_type": "markdown",
   "metadata": {},
   "source": [
    "## Structured Query Language (SQL)\n",
    "\n",
    "**SQL** is the language we use to issue commands to the database. \n",
    "\n",
    "Our code will talk (using SQL) to the DB application and the DB application will talk to the complexity of the database and do the magic.\n",
    "\n",
    "SQL is what let us talk with the API (application program interface). Since SQL is a standard, your APP will be able to talk accross DB.\n",
    "\n",
    "### SQL has 4 basic functions (CRUD)\n",
    "\n",
    "* **C**reate a table\n",
    "* **R**etrieve some data\n",
    "* **U**pdate data\n",
    "* **D**elete data "
   ]
  },
  {
   "cell_type": "markdown",
   "metadata": {
    "collapsed": true
   },
   "source": [
    "## Using Data Bases\n",
    "\n",
    "### Large projects\n",
    "\n",
    "* **Application developer**: Builds the logic for the app, look and feel of the app. Monittors the app for problems\n",
    "\n",
    "* **DB administrator**: Monitors and adjusts the DB as the program runs in production.\n",
    "\n",
    "They usually participate together in the building of the data model.\n",
    "\n",
    "<img src=\"images/large_projects_structure.png\" style=\"width: 600px;\"/> \n"
   ]
  },
  {
   "cell_type": "markdown",
   "metadata": {},
   "source": [
    "**For the purpose of our course we will do both jobs. First we will do the DBA and later the applciation.**"
   ]
  },
  {
   "cell_type": "markdown",
   "metadata": {},
   "source": [
    "<img src=\"images/data_analysis_structure.png\" style=\"width: 600px;\"/>"
   ]
  },
  {
   "cell_type": "markdown",
   "metadata": {},
   "source": [
    "## Data base schema/model\n",
    "\n",
    "Before we start we will need to define our DB schema, **the structure or format of the data base**. In other words, the DB model is the application of a data model when used in conjunction with a DB managment system.\n",
    "\n",
    "### Common DB systems\n",
    "\n",
    "**Oracle:** large, commercial, enterpise-scale.\n",
    "**MySql:** simple but very fast and scalable. Used manly in web. comercial(bought by oracle) open source. It's open version is Myriad.\n",
    "**SqlServer:** nice, from microsoft.\n",
    "**Smaller projects free and Open source:** HSQL, **SQLite**, Postgress.\n",
    "\n",
    "We will use **SQLite**, which is an embedded database. It's part of the software, and more importantly it's built-in in Python. \n"
   ]
  },
  {
   "cell_type": "markdown",
   "metadata": {},
   "source": [
    "# Single table CRUD\n",
    "\n",
    "We've worked out some examples by creating a table and modifying it's rows in SQL browser.\n",
    "\n",
    "The table was created by running the following commands in the execute sql block. \n",
    "\n",
    "```sql\n",
    "CREATE TABLE Users (\n",
    "    name VARCHAR(128),\n",
    "    EMAIL VARCHAR(128)\n",
    ")\n",
    "\n",
    "```\n",
    "\n",
    "Then we played around with some commands to lear the basics. Those commands are summarized in the following slide taken from Dr. Chuck notes.}\n",
    "\n",
    "<img src=\"images/CRUD_sql_basics.png\" style=\"width: 600px;\"/>"
   ]
  },
  {
   "cell_type": "code",
   "execution_count": null,
   "metadata": {
    "collapsed": true
   },
   "outputs": [],
   "source": []
  }
 ],
 "metadata": {
  "kernelspec": {
   "display_name": "Python 3",
   "language": "python",
   "name": "python3"
  },
  "language_info": {
   "codemirror_mode": {
    "name": "ipython",
    "version": 3
   },
   "file_extension": ".py",
   "mimetype": "text/x-python",
   "name": "python",
   "nbconvert_exporter": "python",
   "pygments_lexer": "ipython3",
   "version": "3.6.5"
  }
 },
 "nbformat": 4,
 "nbformat_minor": 2
}
